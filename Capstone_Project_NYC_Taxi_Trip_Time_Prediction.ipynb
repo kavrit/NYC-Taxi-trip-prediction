{
  "nbformat": 4,
  "nbformat_minor": 0,
  "metadata": {
    "colab": {
      "name": "Capstone Project NYC Taxi Trip Time Prediction.ipynb",
      "provenance": [],
      "authorship_tag": "ABX9TyNjlG5yiPZqkTbFUxbTJuAI",
      "include_colab_link": true
    },
    "kernelspec": {
      "name": "python3",
      "display_name": "Python 3"
    },
    "language_info": {
      "name": "python"
    }
  },
  "cells": [
    {
      "cell_type": "markdown",
      "metadata": {
        "id": "view-in-github",
        "colab_type": "text"
      },
      "source": [
        "<a href=\"https://colab.research.google.com/github/kavrit/NYC-Taxi-trip-prediction/blob/main/Capstone_Project_NYC_Taxi_Trip_Time_Prediction.ipynb\" target=\"_parent\"><img src=\"https://colab.research.google.com/assets/colab-badge.svg\" alt=\"Open In Colab\"/></a>"
      ]
    },
    {
      "cell_type": "markdown",
      "metadata": {
        "id": "tOGC-qoyhJeX"
      },
      "source": [
        "# <b><u> Project Title : Taxi trip time Prediction : Predicting total ride duration of taxi trips in New York City</u></b>"
      ]
    },
    {
      "cell_type": "markdown",
      "metadata": {
        "id": "Y06xIdG26kRF"
      },
      "source": [
        "## <b> Problem Description </b>\n",
        "\n",
        "### Your task is to build a model that predicts the total ride duration of taxi trips in New York City. Your primary dataset is one released by the NYC Taxi and Limousine Commission, which includes pickup time, geo-coordinates, number of passengers, and several other variables."
      ]
    },
    {
      "cell_type": "markdown",
      "metadata": {
        "id": "WWeU1f9bwqQq"
      },
      "source": [
        "## <b> Data Description </b>\n",
        "\n",
        "### The dataset is based on the 2016 NYC Yellow Cab trip record data made available in Big Query on Google Cloud Platform. The data was originally published by the NYC Taxi and Limousine Commission (TLC). The data was sampled and cleaned for the purposes of this project. Based on individual trip attributes, you should predict the duration of each trip in the test set.\n",
        "\n",
        "### <b>NYC Taxi Data.csv</b> - the training set (contains 1458644 trip records)\n",
        "\n",
        "\n",
        "### Data fields\n",
        "* #### id - a unique identifier for each trip\n",
        "* #### vendor_id - a code indicating the provider associated with the trip record\n",
        "* #### pickup_datetime - date and time when the meter was engaged\n",
        "* #### dropoff_datetime - date and time when the meter was disengaged\n",
        "* #### passenger_count - the number of passengers in the vehicle (driver entered value)\n",
        "* #### pickup_longitude - the longitude where the meter was engaged\n",
        "* #### pickup_latitude - the latitude where the meter was engaged\n",
        "* #### dropoff_longitude - the longitude where the meter was disengaged\n",
        "* #### dropoff_latitude - the latitude where the meter was disengaged\n",
        "* #### store_and_fwd_flag - This flag indicates whether the trip record was held in vehicle memory before sending to the vendor because the vehicle did not have a connection to the server - Y=store and forward; N=not a store and forward trip\n",
        "* #### trip_duration - duration of the trip in seconds"
      ]
    },
    {
      "cell_type": "code",
      "execution_count": 1,
      "metadata": {
        "colab": {
          "base_uri": "https://localhost:8080/"
        },
        "id": "dByMsuzT8Tnw",
        "outputId": "38c7914e-bc0e-42c5-9e35-05da467f1387"
      },
      "outputs": [
        {
          "output_type": "stream",
          "name": "stdout",
          "text": [
            "Looking in indexes: https://pypi.org/simple, https://us-python.pkg.dev/colab-wheels/public/simple/\n",
            "Collecting haversine\n",
            "  Downloading haversine-2.6.0-py2.py3-none-any.whl (6.8 kB)\n",
            "Installing collected packages: haversine\n",
            "Successfully installed haversine-2.6.0\n"
          ]
        }
      ],
      "source": [
        "#import required packages and libraries\n",
        "!pip install haversine\n",
        "import pandas as pd\n",
        "import numpy as np\n",
        "import matplotlib.pyplot as plt\n",
        "import seaborn as sns\n",
        "import plotly.graph_objects as go\n",
        "import plotly.express as px\n",
        "%matplotlib inline\n",
        "import warnings\n",
        "warnings.filterwarnings('ignore')\n",
        "from sklearn.ensemble import RandomForestRegressor\n",
        "from xgboost import XGBRegressor\n",
        "from sklearn import metrics\n",
        "from haversine import haversine\n",
        "import statsmodels.api as sm\n",
        "from sklearn.model_selection import train_test_split, GridSearchCV\n",
        "from sklearn.metrics import mean_absolute_error"
      ]
    },
    {
      "cell_type": "code",
      "execution_count": 2,
      "metadata": {
        "id": "GWDffL66OTyt"
      },
      "outputs": [],
      "source": [
        "#set style for graph\n",
        "sns.set_style(style='darkgrid')\n",
        "\n",
        "# Setting fontsizes,fontweight,label weight for labels,titles.\n",
        "plt.rcParams[\"font.weight\"] = \"bold\"\n",
        "plt.rcParams[\"axes.labelweight\"] = \"bold\"\n",
        "plt.rcParams[\"axes.titlesize\"] = 25\n",
        "plt.rcParams[\"axes.titleweight\"] = 'bold'\n",
        "plt.rcParams['xtick.labelsize']=15\n",
        "plt.rcParams['ytick.labelsize']=15\n",
        "plt.rcParams[\"axes.labelsize\"] = 20\n",
        "plt.rcParams[\"legend.fontsize\"] = 15\n",
        "plt.rcParams[\"legend.title_fontsize\"] = 15"
      ]
    },
    {
      "cell_type": "markdown",
      "metadata": {
        "id": "YUEYIoOUOdQz"
      },
      "source": [
        "## **Data Preparation**"
      ]
    },
    {
      "cell_type": "markdown",
      "metadata": {
        "id": "FEjwdduPOyzF"
      },
      "source": [
        "### **Mounting Drive**"
      ]
    },
    {
      "cell_type": "code",
      "execution_count": 3,
      "metadata": {
        "id": "7OOsKgG4OtuF"
      },
      "outputs": [],
      "source": [
        "from pydrive.auth import GoogleAuth\n",
        "from pydrive.drive import GoogleDrive\n",
        "from google.colab import auth\n",
        "from oauth2client.client import GoogleCredentials\n",
        "auth.authenticate_user()\n",
        "gauth = GoogleAuth()\n",
        "gauth.credentials = GoogleCredentials.get_application_default()\n",
        "drive = GoogleDrive(gauth)\n",
        "link='https://drive.google.com/file/d/1RMrMAQ3-Al8j6s4WLnPM3FieUkZNrPRY/view?usp=sharing'\n",
        " \n",
        "# to get the id part of the file\n",
        "id = link.split(\"/\")[-2]\n",
        " \n",
        "downloaded = drive.CreateFile({'id':id})\n",
        "downloaded.GetContentFile('NYC Taxi Data.csv') \n",
        " \n",
        "df = pd.read_csv('NYC Taxi Data.csv')"
      ]
    },
    {
      "cell_type": "markdown",
      "metadata": {
        "id": "3Pnn4BxTTKuQ"
      },
      "source": [
        "### **Data Inspection**"
      ]
    },
    {
      "cell_type": "code",
      "execution_count": 4,
      "metadata": {
        "colab": {
          "base_uri": "https://localhost:8080/",
          "height": 270
        },
        "id": "KAOv1LhjSSrh",
        "outputId": "ce023ea4-a231-487e-f828-be5dab25acd7"
      },
      "outputs": [
        {
          "output_type": "execute_result",
          "data": {
            "text/plain": [
              "          id  vendor_id   pickup_datetime  dropoff_datetime  passenger_count  \\\n",
              "0  id2875421          2  14-03-2016 17:24  14-03-2016 17:32                1   \n",
              "1  id2377394          1  12-06-2016 00:43  12-06-2016 00:54                1   \n",
              "2  id3858529          2  19-01-2016 11:35  19-01-2016 12:10                1   \n",
              "3  id3504673          2  06-04-2016 19:32  06-04-2016 19:39                1   \n",
              "4  id2181028          2  26-03-2016 13:30  26-03-2016 13:38                1   \n",
              "\n",
              "   pickup_longitude  pickup_latitude  dropoff_longitude  dropoff_latitude  \\\n",
              "0        -73.982155        40.767937         -73.964630         40.765602   \n",
              "1        -73.980415        40.738564         -73.999481         40.731152   \n",
              "2        -73.979027        40.763939         -74.005333         40.710087   \n",
              "3        -74.010040        40.719971         -74.012268         40.706718   \n",
              "4        -73.973053        40.793209         -73.972923         40.782520   \n",
              "\n",
              "  store_and_fwd_flag  trip_duration  \n",
              "0                  N            455  \n",
              "1                  N            663  \n",
              "2                  N           2124  \n",
              "3                  N            429  \n",
              "4                  N            435  "
            ],
            "text/html": [
              "\n",
              "  <div id=\"df-92c7ae65-69b8-4a0a-ad74-cdcf5ca83617\">\n",
              "    <div class=\"colab-df-container\">\n",
              "      <div>\n",
              "<style scoped>\n",
              "    .dataframe tbody tr th:only-of-type {\n",
              "        vertical-align: middle;\n",
              "    }\n",
              "\n",
              "    .dataframe tbody tr th {\n",
              "        vertical-align: top;\n",
              "    }\n",
              "\n",
              "    .dataframe thead th {\n",
              "        text-align: right;\n",
              "    }\n",
              "</style>\n",
              "<table border=\"1\" class=\"dataframe\">\n",
              "  <thead>\n",
              "    <tr style=\"text-align: right;\">\n",
              "      <th></th>\n",
              "      <th>id</th>\n",
              "      <th>vendor_id</th>\n",
              "      <th>pickup_datetime</th>\n",
              "      <th>dropoff_datetime</th>\n",
              "      <th>passenger_count</th>\n",
              "      <th>pickup_longitude</th>\n",
              "      <th>pickup_latitude</th>\n",
              "      <th>dropoff_longitude</th>\n",
              "      <th>dropoff_latitude</th>\n",
              "      <th>store_and_fwd_flag</th>\n",
              "      <th>trip_duration</th>\n",
              "    </tr>\n",
              "  </thead>\n",
              "  <tbody>\n",
              "    <tr>\n",
              "      <th>0</th>\n",
              "      <td>id2875421</td>\n",
              "      <td>2</td>\n",
              "      <td>14-03-2016 17:24</td>\n",
              "      <td>14-03-2016 17:32</td>\n",
              "      <td>1</td>\n",
              "      <td>-73.982155</td>\n",
              "      <td>40.767937</td>\n",
              "      <td>-73.964630</td>\n",
              "      <td>40.765602</td>\n",
              "      <td>N</td>\n",
              "      <td>455</td>\n",
              "    </tr>\n",
              "    <tr>\n",
              "      <th>1</th>\n",
              "      <td>id2377394</td>\n",
              "      <td>1</td>\n",
              "      <td>12-06-2016 00:43</td>\n",
              "      <td>12-06-2016 00:54</td>\n",
              "      <td>1</td>\n",
              "      <td>-73.980415</td>\n",
              "      <td>40.738564</td>\n",
              "      <td>-73.999481</td>\n",
              "      <td>40.731152</td>\n",
              "      <td>N</td>\n",
              "      <td>663</td>\n",
              "    </tr>\n",
              "    <tr>\n",
              "      <th>2</th>\n",
              "      <td>id3858529</td>\n",
              "      <td>2</td>\n",
              "      <td>19-01-2016 11:35</td>\n",
              "      <td>19-01-2016 12:10</td>\n",
              "      <td>1</td>\n",
              "      <td>-73.979027</td>\n",
              "      <td>40.763939</td>\n",
              "      <td>-74.005333</td>\n",
              "      <td>40.710087</td>\n",
              "      <td>N</td>\n",
              "      <td>2124</td>\n",
              "    </tr>\n",
              "    <tr>\n",
              "      <th>3</th>\n",
              "      <td>id3504673</td>\n",
              "      <td>2</td>\n",
              "      <td>06-04-2016 19:32</td>\n",
              "      <td>06-04-2016 19:39</td>\n",
              "      <td>1</td>\n",
              "      <td>-74.010040</td>\n",
              "      <td>40.719971</td>\n",
              "      <td>-74.012268</td>\n",
              "      <td>40.706718</td>\n",
              "      <td>N</td>\n",
              "      <td>429</td>\n",
              "    </tr>\n",
              "    <tr>\n",
              "      <th>4</th>\n",
              "      <td>id2181028</td>\n",
              "      <td>2</td>\n",
              "      <td>26-03-2016 13:30</td>\n",
              "      <td>26-03-2016 13:38</td>\n",
              "      <td>1</td>\n",
              "      <td>-73.973053</td>\n",
              "      <td>40.793209</td>\n",
              "      <td>-73.972923</td>\n",
              "      <td>40.782520</td>\n",
              "      <td>N</td>\n",
              "      <td>435</td>\n",
              "    </tr>\n",
              "  </tbody>\n",
              "</table>\n",
              "</div>\n",
              "      <button class=\"colab-df-convert\" onclick=\"convertToInteractive('df-92c7ae65-69b8-4a0a-ad74-cdcf5ca83617')\"\n",
              "              title=\"Convert this dataframe to an interactive table.\"\n",
              "              style=\"display:none;\">\n",
              "        \n",
              "  <svg xmlns=\"http://www.w3.org/2000/svg\" height=\"24px\"viewBox=\"0 0 24 24\"\n",
              "       width=\"24px\">\n",
              "    <path d=\"M0 0h24v24H0V0z\" fill=\"none\"/>\n",
              "    <path d=\"M18.56 5.44l.94 2.06.94-2.06 2.06-.94-2.06-.94-.94-2.06-.94 2.06-2.06.94zm-11 1L8.5 8.5l.94-2.06 2.06-.94-2.06-.94L8.5 2.5l-.94 2.06-2.06.94zm10 10l.94 2.06.94-2.06 2.06-.94-2.06-.94-.94-2.06-.94 2.06-2.06.94z\"/><path d=\"M17.41 7.96l-1.37-1.37c-.4-.4-.92-.59-1.43-.59-.52 0-1.04.2-1.43.59L10.3 9.45l-7.72 7.72c-.78.78-.78 2.05 0 2.83L4 21.41c.39.39.9.59 1.41.59.51 0 1.02-.2 1.41-.59l7.78-7.78 2.81-2.81c.8-.78.8-2.07 0-2.86zM5.41 20L4 18.59l7.72-7.72 1.47 1.35L5.41 20z\"/>\n",
              "  </svg>\n",
              "      </button>\n",
              "      \n",
              "  <style>\n",
              "    .colab-df-container {\n",
              "      display:flex;\n",
              "      flex-wrap:wrap;\n",
              "      gap: 12px;\n",
              "    }\n",
              "\n",
              "    .colab-df-convert {\n",
              "      background-color: #E8F0FE;\n",
              "      border: none;\n",
              "      border-radius: 50%;\n",
              "      cursor: pointer;\n",
              "      display: none;\n",
              "      fill: #1967D2;\n",
              "      height: 32px;\n",
              "      padding: 0 0 0 0;\n",
              "      width: 32px;\n",
              "    }\n",
              "\n",
              "    .colab-df-convert:hover {\n",
              "      background-color: #E2EBFA;\n",
              "      box-shadow: 0px 1px 2px rgba(60, 64, 67, 0.3), 0px 1px 3px 1px rgba(60, 64, 67, 0.15);\n",
              "      fill: #174EA6;\n",
              "    }\n",
              "\n",
              "    [theme=dark] .colab-df-convert {\n",
              "      background-color: #3B4455;\n",
              "      fill: #D2E3FC;\n",
              "    }\n",
              "\n",
              "    [theme=dark] .colab-df-convert:hover {\n",
              "      background-color: #434B5C;\n",
              "      box-shadow: 0px 1px 3px 1px rgba(0, 0, 0, 0.15);\n",
              "      filter: drop-shadow(0px 1px 2px rgba(0, 0, 0, 0.3));\n",
              "      fill: #FFFFFF;\n",
              "    }\n",
              "  </style>\n",
              "\n",
              "      <script>\n",
              "        const buttonEl =\n",
              "          document.querySelector('#df-92c7ae65-69b8-4a0a-ad74-cdcf5ca83617 button.colab-df-convert');\n",
              "        buttonEl.style.display =\n",
              "          google.colab.kernel.accessAllowed ? 'block' : 'none';\n",
              "\n",
              "        async function convertToInteractive(key) {\n",
              "          const element = document.querySelector('#df-92c7ae65-69b8-4a0a-ad74-cdcf5ca83617');\n",
              "          const dataTable =\n",
              "            await google.colab.kernel.invokeFunction('convertToInteractive',\n",
              "                                                     [key], {});\n",
              "          if (!dataTable) return;\n",
              "\n",
              "          const docLinkHtml = 'Like what you see? Visit the ' +\n",
              "            '<a target=\"_blank\" href=https://colab.research.google.com/notebooks/data_table.ipynb>data table notebook</a>'\n",
              "            + ' to learn more about interactive tables.';\n",
              "          element.innerHTML = '';\n",
              "          dataTable['output_type'] = 'display_data';\n",
              "          await google.colab.output.renderOutput(dataTable, element);\n",
              "          const docLink = document.createElement('div');\n",
              "          docLink.innerHTML = docLinkHtml;\n",
              "          element.appendChild(docLink);\n",
              "        }\n",
              "      </script>\n",
              "    </div>\n",
              "  </div>\n",
              "  "
            ]
          },
          "metadata": {},
          "execution_count": 4
        }
      ],
      "source": [
        "#first look checking top 5 rows\n",
        "df.head()"
      ]
    },
    {
      "cell_type": "code",
      "execution_count": 5,
      "metadata": {
        "colab": {
          "base_uri": "https://localhost:8080/",
          "height": 270
        },
        "id": "tqHblmWiTpdh",
        "outputId": "39f52691-9c0d-4e94-ba98-df1f9767e1ac"
      },
      "outputs": [
        {
          "output_type": "execute_result",
          "data": {
            "text/plain": [
              "                id  vendor_id   pickup_datetime  dropoff_datetime  \\\n",
              "1048570  id0002921          1  06-04-2016 14:16  06-04-2016 14:20   \n",
              "1048571  id1329189          2  24-03-2016 01:26  24-03-2016 01:38   \n",
              "1048572  id0408460          1  23-02-2016 16:38  23-02-2016 16:48   \n",
              "1048573  id0147762          1  24-05-2016 07:20  24-05-2016 07:25   \n",
              "1048574  id0859354          2  15-03-2016 22:00  15-03-2016 22:19   \n",
              "\n",
              "         passenger_count  pickup_longitude  pickup_latitude  \\\n",
              "1048570                1        -73.973015        40.760948   \n",
              "1048571                1        -73.985550        40.727257   \n",
              "1048572                1        -73.972038        40.750202   \n",
              "1048573                1        -73.993332        40.724342   \n",
              "1048574                1        -73.988060        40.759548   \n",
              "\n",
              "         dropoff_longitude  dropoff_latitude store_and_fwd_flag  trip_duration  \n",
              "1048570         -73.976387         40.755604                  N            207  \n",
              "1048571         -73.957039         40.712387                  N            740  \n",
              "1048572         -73.998360         40.733360                  N            605  \n",
              "1048573         -74.004250         40.707470                  N            287  \n",
              "1048574         -74.005585         40.711521                  N           1169  "
            ],
            "text/html": [
              "\n",
              "  <div id=\"df-0c85bb17-47cb-412d-840f-a23d5a290ce2\">\n",
              "    <div class=\"colab-df-container\">\n",
              "      <div>\n",
              "<style scoped>\n",
              "    .dataframe tbody tr th:only-of-type {\n",
              "        vertical-align: middle;\n",
              "    }\n",
              "\n",
              "    .dataframe tbody tr th {\n",
              "        vertical-align: top;\n",
              "    }\n",
              "\n",
              "    .dataframe thead th {\n",
              "        text-align: right;\n",
              "    }\n",
              "</style>\n",
              "<table border=\"1\" class=\"dataframe\">\n",
              "  <thead>\n",
              "    <tr style=\"text-align: right;\">\n",
              "      <th></th>\n",
              "      <th>id</th>\n",
              "      <th>vendor_id</th>\n",
              "      <th>pickup_datetime</th>\n",
              "      <th>dropoff_datetime</th>\n",
              "      <th>passenger_count</th>\n",
              "      <th>pickup_longitude</th>\n",
              "      <th>pickup_latitude</th>\n",
              "      <th>dropoff_longitude</th>\n",
              "      <th>dropoff_latitude</th>\n",
              "      <th>store_and_fwd_flag</th>\n",
              "      <th>trip_duration</th>\n",
              "    </tr>\n",
              "  </thead>\n",
              "  <tbody>\n",
              "    <tr>\n",
              "      <th>1048570</th>\n",
              "      <td>id0002921</td>\n",
              "      <td>1</td>\n",
              "      <td>06-04-2016 14:16</td>\n",
              "      <td>06-04-2016 14:20</td>\n",
              "      <td>1</td>\n",
              "      <td>-73.973015</td>\n",
              "      <td>40.760948</td>\n",
              "      <td>-73.976387</td>\n",
              "      <td>40.755604</td>\n",
              "      <td>N</td>\n",
              "      <td>207</td>\n",
              "    </tr>\n",
              "    <tr>\n",
              "      <th>1048571</th>\n",
              "      <td>id1329189</td>\n",
              "      <td>2</td>\n",
              "      <td>24-03-2016 01:26</td>\n",
              "      <td>24-03-2016 01:38</td>\n",
              "      <td>1</td>\n",
              "      <td>-73.985550</td>\n",
              "      <td>40.727257</td>\n",
              "      <td>-73.957039</td>\n",
              "      <td>40.712387</td>\n",
              "      <td>N</td>\n",
              "      <td>740</td>\n",
              "    </tr>\n",
              "    <tr>\n",
              "      <th>1048572</th>\n",
              "      <td>id0408460</td>\n",
              "      <td>1</td>\n",
              "      <td>23-02-2016 16:38</td>\n",
              "      <td>23-02-2016 16:48</td>\n",
              "      <td>1</td>\n",
              "      <td>-73.972038</td>\n",
              "      <td>40.750202</td>\n",
              "      <td>-73.998360</td>\n",
              "      <td>40.733360</td>\n",
              "      <td>N</td>\n",
              "      <td>605</td>\n",
              "    </tr>\n",
              "    <tr>\n",
              "      <th>1048573</th>\n",
              "      <td>id0147762</td>\n",
              "      <td>1</td>\n",
              "      <td>24-05-2016 07:20</td>\n",
              "      <td>24-05-2016 07:25</td>\n",
              "      <td>1</td>\n",
              "      <td>-73.993332</td>\n",
              "      <td>40.724342</td>\n",
              "      <td>-74.004250</td>\n",
              "      <td>40.707470</td>\n",
              "      <td>N</td>\n",
              "      <td>287</td>\n",
              "    </tr>\n",
              "    <tr>\n",
              "      <th>1048574</th>\n",
              "      <td>id0859354</td>\n",
              "      <td>2</td>\n",
              "      <td>15-03-2016 22:00</td>\n",
              "      <td>15-03-2016 22:19</td>\n",
              "      <td>1</td>\n",
              "      <td>-73.988060</td>\n",
              "      <td>40.759548</td>\n",
              "      <td>-74.005585</td>\n",
              "      <td>40.711521</td>\n",
              "      <td>N</td>\n",
              "      <td>1169</td>\n",
              "    </tr>\n",
              "  </tbody>\n",
              "</table>\n",
              "</div>\n",
              "      <button class=\"colab-df-convert\" onclick=\"convertToInteractive('df-0c85bb17-47cb-412d-840f-a23d5a290ce2')\"\n",
              "              title=\"Convert this dataframe to an interactive table.\"\n",
              "              style=\"display:none;\">\n",
              "        \n",
              "  <svg xmlns=\"http://www.w3.org/2000/svg\" height=\"24px\"viewBox=\"0 0 24 24\"\n",
              "       width=\"24px\">\n",
              "    <path d=\"M0 0h24v24H0V0z\" fill=\"none\"/>\n",
              "    <path d=\"M18.56 5.44l.94 2.06.94-2.06 2.06-.94-2.06-.94-.94-2.06-.94 2.06-2.06.94zm-11 1L8.5 8.5l.94-2.06 2.06-.94-2.06-.94L8.5 2.5l-.94 2.06-2.06.94zm10 10l.94 2.06.94-2.06 2.06-.94-2.06-.94-.94-2.06-.94 2.06-2.06.94z\"/><path d=\"M17.41 7.96l-1.37-1.37c-.4-.4-.92-.59-1.43-.59-.52 0-1.04.2-1.43.59L10.3 9.45l-7.72 7.72c-.78.78-.78 2.05 0 2.83L4 21.41c.39.39.9.59 1.41.59.51 0 1.02-.2 1.41-.59l7.78-7.78 2.81-2.81c.8-.78.8-2.07 0-2.86zM5.41 20L4 18.59l7.72-7.72 1.47 1.35L5.41 20z\"/>\n",
              "  </svg>\n",
              "      </button>\n",
              "      \n",
              "  <style>\n",
              "    .colab-df-container {\n",
              "      display:flex;\n",
              "      flex-wrap:wrap;\n",
              "      gap: 12px;\n",
              "    }\n",
              "\n",
              "    .colab-df-convert {\n",
              "      background-color: #E8F0FE;\n",
              "      border: none;\n",
              "      border-radius: 50%;\n",
              "      cursor: pointer;\n",
              "      display: none;\n",
              "      fill: #1967D2;\n",
              "      height: 32px;\n",
              "      padding: 0 0 0 0;\n",
              "      width: 32px;\n",
              "    }\n",
              "\n",
              "    .colab-df-convert:hover {\n",
              "      background-color: #E2EBFA;\n",
              "      box-shadow: 0px 1px 2px rgba(60, 64, 67, 0.3), 0px 1px 3px 1px rgba(60, 64, 67, 0.15);\n",
              "      fill: #174EA6;\n",
              "    }\n",
              "\n",
              "    [theme=dark] .colab-df-convert {\n",
              "      background-color: #3B4455;\n",
              "      fill: #D2E3FC;\n",
              "    }\n",
              "\n",
              "    [theme=dark] .colab-df-convert:hover {\n",
              "      background-color: #434B5C;\n",
              "      box-shadow: 0px 1px 3px 1px rgba(0, 0, 0, 0.15);\n",
              "      filter: drop-shadow(0px 1px 2px rgba(0, 0, 0, 0.3));\n",
              "      fill: #FFFFFF;\n",
              "    }\n",
              "  </style>\n",
              "\n",
              "      <script>\n",
              "        const buttonEl =\n",
              "          document.querySelector('#df-0c85bb17-47cb-412d-840f-a23d5a290ce2 button.colab-df-convert');\n",
              "        buttonEl.style.display =\n",
              "          google.colab.kernel.accessAllowed ? 'block' : 'none';\n",
              "\n",
              "        async function convertToInteractive(key) {\n",
              "          const element = document.querySelector('#df-0c85bb17-47cb-412d-840f-a23d5a290ce2');\n",
              "          const dataTable =\n",
              "            await google.colab.kernel.invokeFunction('convertToInteractive',\n",
              "                                                     [key], {});\n",
              "          if (!dataTable) return;\n",
              "\n",
              "          const docLinkHtml = 'Like what you see? Visit the ' +\n",
              "            '<a target=\"_blank\" href=https://colab.research.google.com/notebooks/data_table.ipynb>data table notebook</a>'\n",
              "            + ' to learn more about interactive tables.';\n",
              "          element.innerHTML = '';\n",
              "          dataTable['output_type'] = 'display_data';\n",
              "          await google.colab.output.renderOutput(dataTable, element);\n",
              "          const docLink = document.createElement('div');\n",
              "          docLink.innerHTML = docLinkHtml;\n",
              "          element.appendChild(docLink);\n",
              "        }\n",
              "      </script>\n",
              "    </div>\n",
              "  </div>\n",
              "  "
            ]
          },
          "metadata": {},
          "execution_count": 5
        }
      ],
      "source": [
        "df.tail()"
      ]
    },
    {
      "cell_type": "code",
      "execution_count": 6,
      "metadata": {
        "colab": {
          "base_uri": "https://localhost:8080/"
        },
        "id": "VxXU76CCTuhq",
        "outputId": "082c7367-7239-40cb-ebd5-d4b126ab5b0f"
      },
      "outputs": [
        {
          "output_type": "stream",
          "name": "stdout",
          "text": [
            "<class 'pandas.core.frame.DataFrame'>\n",
            "RangeIndex: 1048575 entries, 0 to 1048574\n",
            "Data columns (total 11 columns):\n",
            " #   Column              Non-Null Count    Dtype  \n",
            "---  ------              --------------    -----  \n",
            " 0   id                  1048575 non-null  object \n",
            " 1   vendor_id           1048575 non-null  int64  \n",
            " 2   pickup_datetime     1048575 non-null  object \n",
            " 3   dropoff_datetime    1048575 non-null  object \n",
            " 4   passenger_count     1048575 non-null  int64  \n",
            " 5   pickup_longitude    1048575 non-null  float64\n",
            " 6   pickup_latitude     1048575 non-null  float64\n",
            " 7   dropoff_longitude   1048575 non-null  float64\n",
            " 8   dropoff_latitude    1048575 non-null  float64\n",
            " 9   store_and_fwd_flag  1048575 non-null  object \n",
            " 10  trip_duration       1048575 non-null  int64  \n",
            "dtypes: float64(4), int64(3), object(4)\n",
            "memory usage: 88.0+ MB\n"
          ]
        }
      ],
      "source": [
        "#check information about the data\n",
        "df.info()"
      ]
    },
    {
      "cell_type": "code",
      "execution_count": 7,
      "metadata": {
        "colab": {
          "base_uri": "https://localhost:8080/",
          "height": 394
        },
        "id": "pSnRMsBjULhU",
        "outputId": "1b94a872-37e4-4042-e5dd-0dcf4c2c51b2"
      },
      "outputs": [
        {
          "output_type": "execute_result",
          "data": {
            "text/plain": [
              "                        count   unique               top     freq        mean  \\\n",
              "id                    1048575  1048575         id2875421        1         NaN   \n",
              "vendor_id           1048575.0      NaN               NaN      NaN    1.534503   \n",
              "pickup_datetime       1048575   237127  23-04-2016 21:23       21         NaN   \n",
              "dropoff_datetime      1048575   237442  21-01-2016 22:52       19         NaN   \n",
              "passenger_count     1048575.0      NaN               NaN      NaN    1.664382   \n",
              "pickup_longitude    1048575.0      NaN               NaN      NaN   -73.97342   \n",
              "pickup_latitude     1048575.0      NaN               NaN      NaN   40.750942   \n",
              "dropoff_longitude   1048575.0      NaN               NaN      NaN  -73.973361   \n",
              "dropoff_latitude    1048575.0      NaN               NaN      NaN   40.751834   \n",
              "store_and_fwd_flag    1048575        2                 N  1042766         NaN   \n",
              "trip_duration       1048575.0      NaN               NaN      NaN  962.144784   \n",
              "\n",
              "                            std        min        25%        50%        75%  \\\n",
              "id                          NaN        NaN        NaN        NaN        NaN   \n",
              "vendor_id              0.498808        1.0        1.0        2.0        2.0   \n",
              "pickup_datetime             NaN        NaN        NaN        NaN        NaN   \n",
              "dropoff_datetime            NaN        NaN        NaN        NaN        NaN   \n",
              "passenger_count        1.314261        0.0        1.0        1.0        2.0   \n",
              "pickup_longitude       0.042802 -78.547401 -73.991859 -73.981735 -73.967308   \n",
              "pickup_latitude        0.033814  34.359695  40.737377   40.75415  40.768364   \n",
              "dropoff_longitude      0.042743 -79.817978  -73.99131 -73.979729 -73.963005   \n",
              "dropoff_latitude        0.03645  32.181141  40.735939  40.754551   40.76984   \n",
              "store_and_fwd_flag          NaN        NaN        NaN        NaN        NaN   \n",
              "trip_duration       5853.002178        1.0      397.0      662.0     1075.0   \n",
              "\n",
              "                          max  \n",
              "id                        NaN  \n",
              "vendor_id                 2.0  \n",
              "pickup_datetime           NaN  \n",
              "dropoff_datetime          NaN  \n",
              "passenger_count           9.0  \n",
              "pickup_longitude   -61.335529  \n",
              "pickup_latitude     51.881084  \n",
              "dropoff_longitude  -61.335529  \n",
              "dropoff_latitude    43.911762  \n",
              "store_and_fwd_flag        NaN  \n",
              "trip_duration       3526282.0  "
            ],
            "text/html": [
              "\n",
              "  <div id=\"df-f38e1bb2-fa61-42b9-b1ea-16e7d9d7e877\">\n",
              "    <div class=\"colab-df-container\">\n",
              "      <div>\n",
              "<style scoped>\n",
              "    .dataframe tbody tr th:only-of-type {\n",
              "        vertical-align: middle;\n",
              "    }\n",
              "\n",
              "    .dataframe tbody tr th {\n",
              "        vertical-align: top;\n",
              "    }\n",
              "\n",
              "    .dataframe thead th {\n",
              "        text-align: right;\n",
              "    }\n",
              "</style>\n",
              "<table border=\"1\" class=\"dataframe\">\n",
              "  <thead>\n",
              "    <tr style=\"text-align: right;\">\n",
              "      <th></th>\n",
              "      <th>count</th>\n",
              "      <th>unique</th>\n",
              "      <th>top</th>\n",
              "      <th>freq</th>\n",
              "      <th>mean</th>\n",
              "      <th>std</th>\n",
              "      <th>min</th>\n",
              "      <th>25%</th>\n",
              "      <th>50%</th>\n",
              "      <th>75%</th>\n",
              "      <th>max</th>\n",
              "    </tr>\n",
              "  </thead>\n",
              "  <tbody>\n",
              "    <tr>\n",
              "      <th>id</th>\n",
              "      <td>1048575</td>\n",
              "      <td>1048575</td>\n",
              "      <td>id2875421</td>\n",
              "      <td>1</td>\n",
              "      <td>NaN</td>\n",
              "      <td>NaN</td>\n",
              "      <td>NaN</td>\n",
              "      <td>NaN</td>\n",
              "      <td>NaN</td>\n",
              "      <td>NaN</td>\n",
              "      <td>NaN</td>\n",
              "    </tr>\n",
              "    <tr>\n",
              "      <th>vendor_id</th>\n",
              "      <td>1048575.0</td>\n",
              "      <td>NaN</td>\n",
              "      <td>NaN</td>\n",
              "      <td>NaN</td>\n",
              "      <td>1.534503</td>\n",
              "      <td>0.498808</td>\n",
              "      <td>1.0</td>\n",
              "      <td>1.0</td>\n",
              "      <td>2.0</td>\n",
              "      <td>2.0</td>\n",
              "      <td>2.0</td>\n",
              "    </tr>\n",
              "    <tr>\n",
              "      <th>pickup_datetime</th>\n",
              "      <td>1048575</td>\n",
              "      <td>237127</td>\n",
              "      <td>23-04-2016 21:23</td>\n",
              "      <td>21</td>\n",
              "      <td>NaN</td>\n",
              "      <td>NaN</td>\n",
              "      <td>NaN</td>\n",
              "      <td>NaN</td>\n",
              "      <td>NaN</td>\n",
              "      <td>NaN</td>\n",
              "      <td>NaN</td>\n",
              "    </tr>\n",
              "    <tr>\n",
              "      <th>dropoff_datetime</th>\n",
              "      <td>1048575</td>\n",
              "      <td>237442</td>\n",
              "      <td>21-01-2016 22:52</td>\n",
              "      <td>19</td>\n",
              "      <td>NaN</td>\n",
              "      <td>NaN</td>\n",
              "      <td>NaN</td>\n",
              "      <td>NaN</td>\n",
              "      <td>NaN</td>\n",
              "      <td>NaN</td>\n",
              "      <td>NaN</td>\n",
              "    </tr>\n",
              "    <tr>\n",
              "      <th>passenger_count</th>\n",
              "      <td>1048575.0</td>\n",
              "      <td>NaN</td>\n",
              "      <td>NaN</td>\n",
              "      <td>NaN</td>\n",
              "      <td>1.664382</td>\n",
              "      <td>1.314261</td>\n",
              "      <td>0.0</td>\n",
              "      <td>1.0</td>\n",
              "      <td>1.0</td>\n",
              "      <td>2.0</td>\n",
              "      <td>9.0</td>\n",
              "    </tr>\n",
              "    <tr>\n",
              "      <th>pickup_longitude</th>\n",
              "      <td>1048575.0</td>\n",
              "      <td>NaN</td>\n",
              "      <td>NaN</td>\n",
              "      <td>NaN</td>\n",
              "      <td>-73.97342</td>\n",
              "      <td>0.042802</td>\n",
              "      <td>-78.547401</td>\n",
              "      <td>-73.991859</td>\n",
              "      <td>-73.981735</td>\n",
              "      <td>-73.967308</td>\n",
              "      <td>-61.335529</td>\n",
              "    </tr>\n",
              "    <tr>\n",
              "      <th>pickup_latitude</th>\n",
              "      <td>1048575.0</td>\n",
              "      <td>NaN</td>\n",
              "      <td>NaN</td>\n",
              "      <td>NaN</td>\n",
              "      <td>40.750942</td>\n",
              "      <td>0.033814</td>\n",
              "      <td>34.359695</td>\n",
              "      <td>40.737377</td>\n",
              "      <td>40.75415</td>\n",
              "      <td>40.768364</td>\n",
              "      <td>51.881084</td>\n",
              "    </tr>\n",
              "    <tr>\n",
              "      <th>dropoff_longitude</th>\n",
              "      <td>1048575.0</td>\n",
              "      <td>NaN</td>\n",
              "      <td>NaN</td>\n",
              "      <td>NaN</td>\n",
              "      <td>-73.973361</td>\n",
              "      <td>0.042743</td>\n",
              "      <td>-79.817978</td>\n",
              "      <td>-73.99131</td>\n",
              "      <td>-73.979729</td>\n",
              "      <td>-73.963005</td>\n",
              "      <td>-61.335529</td>\n",
              "    </tr>\n",
              "    <tr>\n",
              "      <th>dropoff_latitude</th>\n",
              "      <td>1048575.0</td>\n",
              "      <td>NaN</td>\n",
              "      <td>NaN</td>\n",
              "      <td>NaN</td>\n",
              "      <td>40.751834</td>\n",
              "      <td>0.03645</td>\n",
              "      <td>32.181141</td>\n",
              "      <td>40.735939</td>\n",
              "      <td>40.754551</td>\n",
              "      <td>40.76984</td>\n",
              "      <td>43.911762</td>\n",
              "    </tr>\n",
              "    <tr>\n",
              "      <th>store_and_fwd_flag</th>\n",
              "      <td>1048575</td>\n",
              "      <td>2</td>\n",
              "      <td>N</td>\n",
              "      <td>1042766</td>\n",
              "      <td>NaN</td>\n",
              "      <td>NaN</td>\n",
              "      <td>NaN</td>\n",
              "      <td>NaN</td>\n",
              "      <td>NaN</td>\n",
              "      <td>NaN</td>\n",
              "      <td>NaN</td>\n",
              "    </tr>\n",
              "    <tr>\n",
              "      <th>trip_duration</th>\n",
              "      <td>1048575.0</td>\n",
              "      <td>NaN</td>\n",
              "      <td>NaN</td>\n",
              "      <td>NaN</td>\n",
              "      <td>962.144784</td>\n",
              "      <td>5853.002178</td>\n",
              "      <td>1.0</td>\n",
              "      <td>397.0</td>\n",
              "      <td>662.0</td>\n",
              "      <td>1075.0</td>\n",
              "      <td>3526282.0</td>\n",
              "    </tr>\n",
              "  </tbody>\n",
              "</table>\n",
              "</div>\n",
              "      <button class=\"colab-df-convert\" onclick=\"convertToInteractive('df-f38e1bb2-fa61-42b9-b1ea-16e7d9d7e877')\"\n",
              "              title=\"Convert this dataframe to an interactive table.\"\n",
              "              style=\"display:none;\">\n",
              "        \n",
              "  <svg xmlns=\"http://www.w3.org/2000/svg\" height=\"24px\"viewBox=\"0 0 24 24\"\n",
              "       width=\"24px\">\n",
              "    <path d=\"M0 0h24v24H0V0z\" fill=\"none\"/>\n",
              "    <path d=\"M18.56 5.44l.94 2.06.94-2.06 2.06-.94-2.06-.94-.94-2.06-.94 2.06-2.06.94zm-11 1L8.5 8.5l.94-2.06 2.06-.94-2.06-.94L8.5 2.5l-.94 2.06-2.06.94zm10 10l.94 2.06.94-2.06 2.06-.94-2.06-.94-.94-2.06-.94 2.06-2.06.94z\"/><path d=\"M17.41 7.96l-1.37-1.37c-.4-.4-.92-.59-1.43-.59-.52 0-1.04.2-1.43.59L10.3 9.45l-7.72 7.72c-.78.78-.78 2.05 0 2.83L4 21.41c.39.39.9.59 1.41.59.51 0 1.02-.2 1.41-.59l7.78-7.78 2.81-2.81c.8-.78.8-2.07 0-2.86zM5.41 20L4 18.59l7.72-7.72 1.47 1.35L5.41 20z\"/>\n",
              "  </svg>\n",
              "      </button>\n",
              "      \n",
              "  <style>\n",
              "    .colab-df-container {\n",
              "      display:flex;\n",
              "      flex-wrap:wrap;\n",
              "      gap: 12px;\n",
              "    }\n",
              "\n",
              "    .colab-df-convert {\n",
              "      background-color: #E8F0FE;\n",
              "      border: none;\n",
              "      border-radius: 50%;\n",
              "      cursor: pointer;\n",
              "      display: none;\n",
              "      fill: #1967D2;\n",
              "      height: 32px;\n",
              "      padding: 0 0 0 0;\n",
              "      width: 32px;\n",
              "    }\n",
              "\n",
              "    .colab-df-convert:hover {\n",
              "      background-color: #E2EBFA;\n",
              "      box-shadow: 0px 1px 2px rgba(60, 64, 67, 0.3), 0px 1px 3px 1px rgba(60, 64, 67, 0.15);\n",
              "      fill: #174EA6;\n",
              "    }\n",
              "\n",
              "    [theme=dark] .colab-df-convert {\n",
              "      background-color: #3B4455;\n",
              "      fill: #D2E3FC;\n",
              "    }\n",
              "\n",
              "    [theme=dark] .colab-df-convert:hover {\n",
              "      background-color: #434B5C;\n",
              "      box-shadow: 0px 1px 3px 1px rgba(0, 0, 0, 0.15);\n",
              "      filter: drop-shadow(0px 1px 2px rgba(0, 0, 0, 0.3));\n",
              "      fill: #FFFFFF;\n",
              "    }\n",
              "  </style>\n",
              "\n",
              "      <script>\n",
              "        const buttonEl =\n",
              "          document.querySelector('#df-f38e1bb2-fa61-42b9-b1ea-16e7d9d7e877 button.colab-df-convert');\n",
              "        buttonEl.style.display =\n",
              "          google.colab.kernel.accessAllowed ? 'block' : 'none';\n",
              "\n",
              "        async function convertToInteractive(key) {\n",
              "          const element = document.querySelector('#df-f38e1bb2-fa61-42b9-b1ea-16e7d9d7e877');\n",
              "          const dataTable =\n",
              "            await google.colab.kernel.invokeFunction('convertToInteractive',\n",
              "                                                     [key], {});\n",
              "          if (!dataTable) return;\n",
              "\n",
              "          const docLinkHtml = 'Like what you see? Visit the ' +\n",
              "            '<a target=\"_blank\" href=https://colab.research.google.com/notebooks/data_table.ipynb>data table notebook</a>'\n",
              "            + ' to learn more about interactive tables.';\n",
              "          element.innerHTML = '';\n",
              "          dataTable['output_type'] = 'display_data';\n",
              "          await google.colab.output.renderOutput(dataTable, element);\n",
              "          const docLink = document.createElement('div');\n",
              "          docLink.innerHTML = docLinkHtml;\n",
              "          element.appendChild(docLink);\n",
              "        }\n",
              "      </script>\n",
              "    </div>\n",
              "  </div>\n",
              "  "
            ]
          },
          "metadata": {},
          "execution_count": 7
        }
      ],
      "source": [
        "df.describe(include='all').T"
      ]
    },
    {
      "cell_type": "code",
      "execution_count": 8,
      "metadata": {
        "colab": {
          "base_uri": "https://localhost:8080/"
        },
        "id": "aP80pDyhUQtq",
        "outputId": "b65a347d-b850-4d5c-a107-306bf7302463"
      },
      "outputs": [
        {
          "output_type": "execute_result",
          "data": {
            "text/plain": [
              "Index(['id', 'vendor_id', 'pickup_datetime', 'dropoff_datetime',\n",
              "       'passenger_count', 'pickup_longitude', 'pickup_latitude',\n",
              "       'dropoff_longitude', 'dropoff_latitude', 'store_and_fwd_flag',\n",
              "       'trip_duration'],\n",
              "      dtype='object')"
            ]
          },
          "metadata": {},
          "execution_count": 8
        }
      ],
      "source": [
        "#check columns names\n",
        "df.columns"
      ]
    },
    {
      "cell_type": "code",
      "execution_count": 9,
      "metadata": {
        "colab": {
          "base_uri": "https://localhost:8080/"
        },
        "id": "1KghbUdIfTX8",
        "outputId": "884dd8c3-be4c-45c1-f2a2-61aaf0e596b8"
      },
      "outputs": [
        {
          "output_type": "execute_result",
          "data": {
            "text/plain": [
              "(1048575, 11)"
            ]
          },
          "metadata": {},
          "execution_count": 9
        }
      ],
      "source": [
        "#Check shape of dataset\n",
        "df.shape "
      ]
    },
    {
      "cell_type": "markdown",
      "metadata": {
        "id": "P5_wT1xJVPlS"
      },
      "source": [
        "### **Data Description**"
      ]
    },
    {
      "cell_type": "markdown",
      "metadata": {
        "id": "ZApwEXt0V5Jx"
      },
      "source": [
        "*   id - a unique identifier for each trip\n",
        "*   vendor_id - a code indicating the provider associated with the trip record\n",
        "*   pickup_datetime - date and time when the meter was engaged\n",
        "*   dropoff_datetime - date and time when the meter was disengaged\n",
        "*   passenger_count - the number of passengers in the vehicle (driver entered value)\n",
        "*   pickup_longitude - the longitude where the meter was engaged\n",
        "*   pickup_latitude - the latitude where the meter was engaged\n",
        "*   dropoff_longitude - the longitude where the meter was disengaged\n",
        "*   dropoff_latitude - the latitude where the meter was disengaged\n",
        "*   store_and_fwd_flag - This flag indicates whether the trip record was held in vehicle memory before sending to the vendor because the vehicle did not have a connection to the server - Y=store and forward; N=not a store and forward trip\n",
        "*   trip_duration - duration of the trip in seconds\n",
        "\n"
      ]
    },
    {
      "cell_type": "code",
      "execution_count": 10,
      "metadata": {
        "id": "V_jNYRzOVI6F"
      },
      "outputs": [],
      "source": [
        "#first create copy of dataset before working with so that we have original data untouched\n",
        "df1 = df.copy()"
      ]
    },
    {
      "cell_type": "markdown",
      "metadata": {
        "id": "qI21mWVWXurq"
      },
      "source": [
        "### **Check columns and their unique values to understand what they contain.**"
      ]
    },
    {
      "cell_type": "code",
      "execution_count": 11,
      "metadata": {
        "colab": {
          "base_uri": "https://localhost:8080/"
        },
        "id": "cHfrGIDtXyW-",
        "outputId": "6364f630-f13e-4e70-abfd-7fa41c3c805d"
      },
      "outputs": [
        {
          "output_type": "stream",
          "name": "stdout",
          "text": [
            "Unique values in categorical columns id are: ['id2875421' 'id2377394' 'id3858529' 'id3504673' 'id2181028' 'id0801584'\n",
            " 'id1813257' 'id1324603']\n",
            "\n",
            "Unique values in categorical columns pickup_datetime are: ['14-03-2016 17:24' '12-06-2016 00:43' '19-01-2016 11:35'\n",
            " '06-04-2016 19:32' '26-03-2016 13:30' '30-01-2016 22:01'\n",
            " '17-06-2016 22:34' '21-05-2016 07:54']\n",
            "\n",
            "Unique values in categorical columns dropoff_datetime are: ['14-03-2016 17:32' '12-06-2016 00:54' '19-01-2016 12:10'\n",
            " '06-04-2016 19:39' '26-03-2016 13:38' '30-01-2016 22:09'\n",
            " '17-06-2016 22:40' '21-05-2016 08:20']\n",
            "\n",
            "Unique values in categorical columns store_and_fwd_flag are: ['N' 'Y']\n",
            "\n"
          ]
        }
      ],
      "source": [
        "#check unique values for categorical columnns\n",
        "categorical_columns = df1.select_dtypes(include=['object'])\n",
        "for col in categorical_columns:\n",
        "  print(f'Unique values in categorical columns {col} are: {categorical_columns[col].unique()[:8]}\\n')"
      ]
    },
    {
      "cell_type": "code",
      "execution_count": 12,
      "metadata": {
        "colab": {
          "base_uri": "https://localhost:8080/"
        },
        "id": "DZC6QozxX7Qc",
        "outputId": "708d6a54-a178-4291-ce16-4ccf1fed7bc8"
      },
      "outputs": [
        {
          "output_type": "stream",
          "name": "stdout",
          "text": [
            "Unique values in numerical columns vendor_id are: [2 1]\n",
            "\n",
            "Unique values in numerical columns passenger_count are: [1 6 4 2 3 5 0 7]\n",
            "\n",
            "Unique values in numerical columns pickup_longitude are: [-73.98215485 -73.98041534 -73.97902679 -74.01004028 -73.97305298\n",
            " -73.98285675 -73.96901703 -73.96927643]\n",
            "\n",
            "Unique values in numerical columns pickup_latitude are: [40.76793671 40.73856354 40.7639389  40.7199707  40.79320908 40.74219513\n",
            " 40.7578392  40.79777908]\n",
            "\n",
            "Unique values in numerical columns dropoff_longitude are: [-73.96463013 -73.9994812  -74.00533295 -74.01226807 -73.97292328\n",
            " -73.99208069 -73.95740509 -73.92247009]\n",
            "\n",
            "Unique values in numerical columns dropoff_latitude are: [40.76560211 40.73115158 40.71008682 40.70671844 40.78252029 40.74918365\n",
            " 40.76589584 40.76055908]\n",
            "\n",
            "Unique values in numerical columns trip_duration are: [ 455  663 2124  429  435  443  341 1551]\n",
            "\n"
          ]
        }
      ],
      "source": [
        "#check unique values for numerical columns\n",
        "numerical_columns = df1._get_numeric_data()\n",
        "for col in numerical_columns:\n",
        "  print(f'Unique values in numerical columns {col} are: {numerical_columns[col].unique()[:8]}\\n')"
      ]
    },
    {
      "cell_type": "code",
      "execution_count": 13,
      "metadata": {
        "colab": {
          "base_uri": "https://localhost:8080/"
        },
        "id": "1Yi5ds8MX92m",
        "outputId": "900374a5-dd85-4928-b655-40a6ede12321"
      },
      "outputs": [
        {
          "output_type": "execute_result",
          "data": {
            "text/plain": [
              "1048575"
            ]
          },
          "metadata": {},
          "execution_count": 13
        }
      ],
      "source": [
        "#check count of unqiue id\n",
        "len(df1['id'].unique())"
      ]
    },
    {
      "cell_type": "code",
      "execution_count": 14,
      "metadata": {
        "id": "M1CMAYJKfHQT"
      },
      "outputs": [],
      "source": [
        "#Convert timestamp to datetime format to fetch the other details as listed below\n",
        "df['pickup_datetime'] = pd.to_datetime(df['pickup_datetime'])\n",
        "df['dropoff_datetime'] = pd.to_datetime(df['dropoff_datetime'])"
      ]
    },
    {
      "cell_type": "code",
      "execution_count": 15,
      "metadata": {
        "colab": {
          "base_uri": "https://localhost:8080/"
        },
        "outputId": "8babe8d4-3c68-493a-836b-58c9cd188a0c",
        "id": "YdVEhhuRY1QA"
      },
      "outputs": [
        {
          "output_type": "execute_result",
          "data": {
            "text/plain": [
              "1048575"
            ]
          },
          "metadata": {},
          "execution_count": 15
        }
      ],
      "source": [
        "#check count of unqiue id\n",
        "len(df1['id'].unique())"
      ]
    },
    {
      "cell_type": "code",
      "execution_count": 16,
      "metadata": {
        "id": "cYXLstqTgtiS"
      },
      "outputs": [],
      "source": [
        "#Calculate and assign new columns to the dataframe such as weekday,\n",
        "#month and pickup_hour which will help us to gain more insights from the data.\n",
        "df['weekday'] = df.pickup_datetime.dt.weekday\n",
        "df['month'] = df.pickup_datetime.dt.month\n",
        "df['weekday_num'] = df.pickup_datetime.dt.weekday\n",
        "df['pickup_hour'] = df.pickup_datetime.dt.hour"
      ]
    },
    {
      "cell_type": "code",
      "execution_count": 17,
      "metadata": {
        "id": "oESFz6c5irqb"
      },
      "outputs": [],
      "source": [
        "#calc_distance is a function to calculate distance between pickup and dropoff coordinates using Haversine formula.\n",
        "def calc_distance(df):\n",
        "    pickup = (df['pickup_latitude'], df['pickup_longitude'])\n",
        "    drop = (df['dropoff_latitude'], df['dropoff_longitude'])\n",
        "    return haversine(pickup, drop)"
      ]
    },
    {
      "cell_type": "code",
      "execution_count": 18,
      "metadata": {
        "id": "b4WsdOWoit7N"
      },
      "outputs": [],
      "source": [
        "#Calculate distance and assign new column to the dataframe.\n",
        "df['distance'] = df.apply(lambda x: calc_distance(x), axis = 1)"
      ]
    },
    {
      "cell_type": "code",
      "execution_count": 19,
      "metadata": {
        "id": "Jx93RCOgizhj"
      },
      "outputs": [],
      "source": [
        "#Calculate Speed in km/h for further insights\n",
        "df['speed'] = (df.distance/(df.trip_duration/3600))"
      ]
    },
    {
      "cell_type": "code",
      "execution_count": 20,
      "metadata": {
        "colab": {
          "base_uri": "https://localhost:8080/",
          "height": 0
        },
        "id": "-QlpI6Pg2Ren",
        "outputId": "f6d429e7-ba4c-4d23-900c-aace9f7abe3e"
      },
      "outputs": [
        {
          "output_type": "execute_result",
          "data": {
            "text/plain": [
              "                 index               0\n",
              "0                   id          object\n",
              "1            vendor_id           int64\n",
              "2      pickup_datetime  datetime64[ns]\n",
              "3     dropoff_datetime  datetime64[ns]\n",
              "4      passenger_count           int64\n",
              "5     pickup_longitude         float64\n",
              "6      pickup_latitude         float64\n",
              "7    dropoff_longitude         float64\n",
              "8     dropoff_latitude         float64\n",
              "9   store_and_fwd_flag          object\n",
              "10       trip_duration           int64\n",
              "11             weekday           int64\n",
              "12               month           int64\n",
              "13         weekday_num           int64\n",
              "14         pickup_hour           int64\n",
              "15            distance         float64\n",
              "16               speed         float64"
            ],
            "text/html": [
              "\n",
              "  <div id=\"df-b765af68-77e8-4da1-83c2-508073f5631d\">\n",
              "    <div class=\"colab-df-container\">\n",
              "      <div>\n",
              "<style scoped>\n",
              "    .dataframe tbody tr th:only-of-type {\n",
              "        vertical-align: middle;\n",
              "    }\n",
              "\n",
              "    .dataframe tbody tr th {\n",
              "        vertical-align: top;\n",
              "    }\n",
              "\n",
              "    .dataframe thead th {\n",
              "        text-align: right;\n",
              "    }\n",
              "</style>\n",
              "<table border=\"1\" class=\"dataframe\">\n",
              "  <thead>\n",
              "    <tr style=\"text-align: right;\">\n",
              "      <th></th>\n",
              "      <th>index</th>\n",
              "      <th>0</th>\n",
              "    </tr>\n",
              "  </thead>\n",
              "  <tbody>\n",
              "    <tr>\n",
              "      <th>0</th>\n",
              "      <td>id</td>\n",
              "      <td>object</td>\n",
              "    </tr>\n",
              "    <tr>\n",
              "      <th>1</th>\n",
              "      <td>vendor_id</td>\n",
              "      <td>int64</td>\n",
              "    </tr>\n",
              "    <tr>\n",
              "      <th>2</th>\n",
              "      <td>pickup_datetime</td>\n",
              "      <td>datetime64[ns]</td>\n",
              "    </tr>\n",
              "    <tr>\n",
              "      <th>3</th>\n",
              "      <td>dropoff_datetime</td>\n",
              "      <td>datetime64[ns]</td>\n",
              "    </tr>\n",
              "    <tr>\n",
              "      <th>4</th>\n",
              "      <td>passenger_count</td>\n",
              "      <td>int64</td>\n",
              "    </tr>\n",
              "    <tr>\n",
              "      <th>5</th>\n",
              "      <td>pickup_longitude</td>\n",
              "      <td>float64</td>\n",
              "    </tr>\n",
              "    <tr>\n",
              "      <th>6</th>\n",
              "      <td>pickup_latitude</td>\n",
              "      <td>float64</td>\n",
              "    </tr>\n",
              "    <tr>\n",
              "      <th>7</th>\n",
              "      <td>dropoff_longitude</td>\n",
              "      <td>float64</td>\n",
              "    </tr>\n",
              "    <tr>\n",
              "      <th>8</th>\n",
              "      <td>dropoff_latitude</td>\n",
              "      <td>float64</td>\n",
              "    </tr>\n",
              "    <tr>\n",
              "      <th>9</th>\n",
              "      <td>store_and_fwd_flag</td>\n",
              "      <td>object</td>\n",
              "    </tr>\n",
              "    <tr>\n",
              "      <th>10</th>\n",
              "      <td>trip_duration</td>\n",
              "      <td>int64</td>\n",
              "    </tr>\n",
              "    <tr>\n",
              "      <th>11</th>\n",
              "      <td>weekday</td>\n",
              "      <td>int64</td>\n",
              "    </tr>\n",
              "    <tr>\n",
              "      <th>12</th>\n",
              "      <td>month</td>\n",
              "      <td>int64</td>\n",
              "    </tr>\n",
              "    <tr>\n",
              "      <th>13</th>\n",
              "      <td>weekday_num</td>\n",
              "      <td>int64</td>\n",
              "    </tr>\n",
              "    <tr>\n",
              "      <th>14</th>\n",
              "      <td>pickup_hour</td>\n",
              "      <td>int64</td>\n",
              "    </tr>\n",
              "    <tr>\n",
              "      <th>15</th>\n",
              "      <td>distance</td>\n",
              "      <td>float64</td>\n",
              "    </tr>\n",
              "    <tr>\n",
              "      <th>16</th>\n",
              "      <td>speed</td>\n",
              "      <td>float64</td>\n",
              "    </tr>\n",
              "  </tbody>\n",
              "</table>\n",
              "</div>\n",
              "      <button class=\"colab-df-convert\" onclick=\"convertToInteractive('df-b765af68-77e8-4da1-83c2-508073f5631d')\"\n",
              "              title=\"Convert this dataframe to an interactive table.\"\n",
              "              style=\"display:none;\">\n",
              "        \n",
              "  <svg xmlns=\"http://www.w3.org/2000/svg\" height=\"24px\"viewBox=\"0 0 24 24\"\n",
              "       width=\"24px\">\n",
              "    <path d=\"M0 0h24v24H0V0z\" fill=\"none\"/>\n",
              "    <path d=\"M18.56 5.44l.94 2.06.94-2.06 2.06-.94-2.06-.94-.94-2.06-.94 2.06-2.06.94zm-11 1L8.5 8.5l.94-2.06 2.06-.94-2.06-.94L8.5 2.5l-.94 2.06-2.06.94zm10 10l.94 2.06.94-2.06 2.06-.94-2.06-.94-.94-2.06-.94 2.06-2.06.94z\"/><path d=\"M17.41 7.96l-1.37-1.37c-.4-.4-.92-.59-1.43-.59-.52 0-1.04.2-1.43.59L10.3 9.45l-7.72 7.72c-.78.78-.78 2.05 0 2.83L4 21.41c.39.39.9.59 1.41.59.51 0 1.02-.2 1.41-.59l7.78-7.78 2.81-2.81c.8-.78.8-2.07 0-2.86zM5.41 20L4 18.59l7.72-7.72 1.47 1.35L5.41 20z\"/>\n",
              "  </svg>\n",
              "      </button>\n",
              "      \n",
              "  <style>\n",
              "    .colab-df-container {\n",
              "      display:flex;\n",
              "      flex-wrap:wrap;\n",
              "      gap: 12px;\n",
              "    }\n",
              "\n",
              "    .colab-df-convert {\n",
              "      background-color: #E8F0FE;\n",
              "      border: none;\n",
              "      border-radius: 50%;\n",
              "      cursor: pointer;\n",
              "      display: none;\n",
              "      fill: #1967D2;\n",
              "      height: 32px;\n",
              "      padding: 0 0 0 0;\n",
              "      width: 32px;\n",
              "    }\n",
              "\n",
              "    .colab-df-convert:hover {\n",
              "      background-color: #E2EBFA;\n",
              "      box-shadow: 0px 1px 2px rgba(60, 64, 67, 0.3), 0px 1px 3px 1px rgba(60, 64, 67, 0.15);\n",
              "      fill: #174EA6;\n",
              "    }\n",
              "\n",
              "    [theme=dark] .colab-df-convert {\n",
              "      background-color: #3B4455;\n",
              "      fill: #D2E3FC;\n",
              "    }\n",
              "\n",
              "    [theme=dark] .colab-df-convert:hover {\n",
              "      background-color: #434B5C;\n",
              "      box-shadow: 0px 1px 3px 1px rgba(0, 0, 0, 0.15);\n",
              "      filter: drop-shadow(0px 1px 2px rgba(0, 0, 0, 0.3));\n",
              "      fill: #FFFFFF;\n",
              "    }\n",
              "  </style>\n",
              "\n",
              "      <script>\n",
              "        const buttonEl =\n",
              "          document.querySelector('#df-b765af68-77e8-4da1-83c2-508073f5631d button.colab-df-convert');\n",
              "        buttonEl.style.display =\n",
              "          google.colab.kernel.accessAllowed ? 'block' : 'none';\n",
              "\n",
              "        async function convertToInteractive(key) {\n",
              "          const element = document.querySelector('#df-b765af68-77e8-4da1-83c2-508073f5631d');\n",
              "          const dataTable =\n",
              "            await google.colab.kernel.invokeFunction('convertToInteractive',\n",
              "                                                     [key], {});\n",
              "          if (!dataTable) return;\n",
              "\n",
              "          const docLinkHtml = 'Like what you see? Visit the ' +\n",
              "            '<a target=\"_blank\" href=https://colab.research.google.com/notebooks/data_table.ipynb>data table notebook</a>'\n",
              "            + ' to learn more about interactive tables.';\n",
              "          element.innerHTML = '';\n",
              "          dataTable['output_type'] = 'display_data';\n",
              "          await google.colab.output.renderOutput(dataTable, element);\n",
              "          const docLink = document.createElement('div');\n",
              "          docLink.innerHTML = docLinkHtml;\n",
              "          element.appendChild(docLink);\n",
              "        }\n",
              "      </script>\n",
              "    </div>\n",
              "  </div>\n",
              "  "
            ]
          },
          "metadata": {},
          "execution_count": 20
        }
      ],
      "source": [
        "#Check the type of each variable\n",
        "df.dtypes.reset_index()"
      ]
    },
    {
      "cell_type": "code",
      "execution_count": 21,
      "metadata": {
        "id": "ZNgxPzej2lgB"
      },
      "outputs": [],
      "source": [
        "#Dummify all the categorical features like \"store_and_fwd_flag, vendor_id, month, weekday_num, pickup_hour, passenger_count\" except the label i.e. \"trip_duration\"\n",
        "\n",
        "dummy = pd.get_dummies(df.store_and_fwd_flag, prefix='flag')\n",
        "dummy.drop(dummy.columns[0], axis=1, inplace=True) #avoid dummy trap\n",
        "df = pd.concat([df,dummy], axis = 1)\n",
        "\n",
        "dummy = pd.get_dummies(df.vendor_id, prefix='vendor_id')\n",
        "dummy.drop(dummy.columns[0], axis=1, inplace=True) #avoid dummy trap\n",
        "df = pd.concat([df,dummy], axis = 1)\n",
        "\n",
        "dummy = pd.get_dummies(df.month, prefix='month')\n",
        "dummy.drop(dummy.columns[0], axis=1, inplace=True) #avoid dummy trap\n",
        "df = pd.concat([df,dummy], axis = 1)\n",
        "\n",
        "dummy = pd.get_dummies(df.weekday_num, prefix='weekday_num')\n",
        "dummy.drop(dummy.columns[0], axis=1, inplace=True) #avoid dummy trap\n",
        "df = pd.concat([df,dummy], axis = 1)\n",
        "\n",
        "dummy = pd.get_dummies(df.pickup_hour, prefix='pickup_hour')\n",
        "dummy.drop(dummy.columns[0], axis=1, inplace=True) #avoid dummy trap\n",
        "df = pd.concat([df,dummy], axis = 1)\n",
        "\n",
        "dummy = pd.get_dummies(df.passenger_count, prefix='passenger_count')\n",
        "dummy.drop(dummy.columns[0], axis=1, inplace=True) #avoid dummy trap\n",
        "df = pd.concat([df,dummy], axis = 1)"
      ]
    },
    {
      "cell_type": "code",
      "source": [
        "\n"
      ],
      "metadata": {
        "id": "S-MGC9eX7RnZ"
      },
      "execution_count": 21,
      "outputs": []
    },
    {
      "cell_type": "code",
      "execution_count": 22,
      "metadata": {
        "colab": {
          "base_uri": "https://localhost:8080/",
          "height": 0
        },
        "id": "F_DgOGDP3XCK",
        "outputId": "05777be4-a346-43a7-fa4d-abf27494a953"
      },
      "outputs": [
        {
          "output_type": "execute_result",
          "data": {
            "text/plain": [
              "          id  vendor_id     pickup_datetime    dropoff_datetime  \\\n",
              "0  id2875421          2 2016-03-14 17:24:00 2016-03-14 17:32:00   \n",
              "1  id2377394          1 2016-12-06 00:43:00 2016-12-06 00:54:00   \n",
              "2  id3858529          2 2016-01-19 11:35:00 2016-01-19 12:10:00   \n",
              "3  id3504673          2 2016-06-04 19:32:00 2016-06-04 19:39:00   \n",
              "4  id2181028          2 2016-03-26 13:30:00 2016-03-26 13:38:00   \n",
              "\n",
              "   passenger_count  pickup_longitude  pickup_latitude  dropoff_longitude  \\\n",
              "0                1        -73.982155        40.767937         -73.964630   \n",
              "1                1        -73.980415        40.738564         -73.999481   \n",
              "2                1        -73.979027        40.763939         -74.005333   \n",
              "3                1        -74.010040        40.719971         -74.012268   \n",
              "4                1        -73.973053        40.793209         -73.972923   \n",
              "\n",
              "   dropoff_latitude store_and_fwd_flag  ...  pickup_hour_23  \\\n",
              "0         40.765602                  N  ...               0   \n",
              "1         40.731152                  N  ...               0   \n",
              "2         40.710087                  N  ...               0   \n",
              "3         40.706718                  N  ...               0   \n",
              "4         40.782520                  N  ...               0   \n",
              "\n",
              "   passenger_count_1  passenger_count_2  passenger_count_3  passenger_count_4  \\\n",
              "0                  1                  0                  0                  0   \n",
              "1                  1                  0                  0                  0   \n",
              "2                  1                  0                  0                  0   \n",
              "3                  1                  0                  0                  0   \n",
              "4                  1                  0                  0                  0   \n",
              "\n",
              "   passenger_count_5  passenger_count_6  passenger_count_7  passenger_count_8  \\\n",
              "0                  0                  0                  0                  0   \n",
              "1                  0                  0                  0                  0   \n",
              "2                  0                  0                  0                  0   \n",
              "3                  0                  0                  0                  0   \n",
              "4                  0                  0                  0                  0   \n",
              "\n",
              "   passenger_count_9  \n",
              "0                  0  \n",
              "1                  0  \n",
              "2                  0  \n",
              "3                  0  \n",
              "4                  0  \n",
              "\n",
              "[5 rows x 68 columns]"
            ],
            "text/html": [
              "\n",
              "  <div id=\"df-851d79e4-8804-4d85-8f14-5e834af26740\">\n",
              "    <div class=\"colab-df-container\">\n",
              "      <div>\n",
              "<style scoped>\n",
              "    .dataframe tbody tr th:only-of-type {\n",
              "        vertical-align: middle;\n",
              "    }\n",
              "\n",
              "    .dataframe tbody tr th {\n",
              "        vertical-align: top;\n",
              "    }\n",
              "\n",
              "    .dataframe thead th {\n",
              "        text-align: right;\n",
              "    }\n",
              "</style>\n",
              "<table border=\"1\" class=\"dataframe\">\n",
              "  <thead>\n",
              "    <tr style=\"text-align: right;\">\n",
              "      <th></th>\n",
              "      <th>id</th>\n",
              "      <th>vendor_id</th>\n",
              "      <th>pickup_datetime</th>\n",
              "      <th>dropoff_datetime</th>\n",
              "      <th>passenger_count</th>\n",
              "      <th>pickup_longitude</th>\n",
              "      <th>pickup_latitude</th>\n",
              "      <th>dropoff_longitude</th>\n",
              "      <th>dropoff_latitude</th>\n",
              "      <th>store_and_fwd_flag</th>\n",
              "      <th>...</th>\n",
              "      <th>pickup_hour_23</th>\n",
              "      <th>passenger_count_1</th>\n",
              "      <th>passenger_count_2</th>\n",
              "      <th>passenger_count_3</th>\n",
              "      <th>passenger_count_4</th>\n",
              "      <th>passenger_count_5</th>\n",
              "      <th>passenger_count_6</th>\n",
              "      <th>passenger_count_7</th>\n",
              "      <th>passenger_count_8</th>\n",
              "      <th>passenger_count_9</th>\n",
              "    </tr>\n",
              "  </thead>\n",
              "  <tbody>\n",
              "    <tr>\n",
              "      <th>0</th>\n",
              "      <td>id2875421</td>\n",
              "      <td>2</td>\n",
              "      <td>2016-03-14 17:24:00</td>\n",
              "      <td>2016-03-14 17:32:00</td>\n",
              "      <td>1</td>\n",
              "      <td>-73.982155</td>\n",
              "      <td>40.767937</td>\n",
              "      <td>-73.964630</td>\n",
              "      <td>40.765602</td>\n",
              "      <td>N</td>\n",
              "      <td>...</td>\n",
              "      <td>0</td>\n",
              "      <td>1</td>\n",
              "      <td>0</td>\n",
              "      <td>0</td>\n",
              "      <td>0</td>\n",
              "      <td>0</td>\n",
              "      <td>0</td>\n",
              "      <td>0</td>\n",
              "      <td>0</td>\n",
              "      <td>0</td>\n",
              "    </tr>\n",
              "    <tr>\n",
              "      <th>1</th>\n",
              "      <td>id2377394</td>\n",
              "      <td>1</td>\n",
              "      <td>2016-12-06 00:43:00</td>\n",
              "      <td>2016-12-06 00:54:00</td>\n",
              "      <td>1</td>\n",
              "      <td>-73.980415</td>\n",
              "      <td>40.738564</td>\n",
              "      <td>-73.999481</td>\n",
              "      <td>40.731152</td>\n",
              "      <td>N</td>\n",
              "      <td>...</td>\n",
              "      <td>0</td>\n",
              "      <td>1</td>\n",
              "      <td>0</td>\n",
              "      <td>0</td>\n",
              "      <td>0</td>\n",
              "      <td>0</td>\n",
              "      <td>0</td>\n",
              "      <td>0</td>\n",
              "      <td>0</td>\n",
              "      <td>0</td>\n",
              "    </tr>\n",
              "    <tr>\n",
              "      <th>2</th>\n",
              "      <td>id3858529</td>\n",
              "      <td>2</td>\n",
              "      <td>2016-01-19 11:35:00</td>\n",
              "      <td>2016-01-19 12:10:00</td>\n",
              "      <td>1</td>\n",
              "      <td>-73.979027</td>\n",
              "      <td>40.763939</td>\n",
              "      <td>-74.005333</td>\n",
              "      <td>40.710087</td>\n",
              "      <td>N</td>\n",
              "      <td>...</td>\n",
              "      <td>0</td>\n",
              "      <td>1</td>\n",
              "      <td>0</td>\n",
              "      <td>0</td>\n",
              "      <td>0</td>\n",
              "      <td>0</td>\n",
              "      <td>0</td>\n",
              "      <td>0</td>\n",
              "      <td>0</td>\n",
              "      <td>0</td>\n",
              "    </tr>\n",
              "    <tr>\n",
              "      <th>3</th>\n",
              "      <td>id3504673</td>\n",
              "      <td>2</td>\n",
              "      <td>2016-06-04 19:32:00</td>\n",
              "      <td>2016-06-04 19:39:00</td>\n",
              "      <td>1</td>\n",
              "      <td>-74.010040</td>\n",
              "      <td>40.719971</td>\n",
              "      <td>-74.012268</td>\n",
              "      <td>40.706718</td>\n",
              "      <td>N</td>\n",
              "      <td>...</td>\n",
              "      <td>0</td>\n",
              "      <td>1</td>\n",
              "      <td>0</td>\n",
              "      <td>0</td>\n",
              "      <td>0</td>\n",
              "      <td>0</td>\n",
              "      <td>0</td>\n",
              "      <td>0</td>\n",
              "      <td>0</td>\n",
              "      <td>0</td>\n",
              "    </tr>\n",
              "    <tr>\n",
              "      <th>4</th>\n",
              "      <td>id2181028</td>\n",
              "      <td>2</td>\n",
              "      <td>2016-03-26 13:30:00</td>\n",
              "      <td>2016-03-26 13:38:00</td>\n",
              "      <td>1</td>\n",
              "      <td>-73.973053</td>\n",
              "      <td>40.793209</td>\n",
              "      <td>-73.972923</td>\n",
              "      <td>40.782520</td>\n",
              "      <td>N</td>\n",
              "      <td>...</td>\n",
              "      <td>0</td>\n",
              "      <td>1</td>\n",
              "      <td>0</td>\n",
              "      <td>0</td>\n",
              "      <td>0</td>\n",
              "      <td>0</td>\n",
              "      <td>0</td>\n",
              "      <td>0</td>\n",
              "      <td>0</td>\n",
              "      <td>0</td>\n",
              "    </tr>\n",
              "  </tbody>\n",
              "</table>\n",
              "<p>5 rows × 68 columns</p>\n",
              "</div>\n",
              "      <button class=\"colab-df-convert\" onclick=\"convertToInteractive('df-851d79e4-8804-4d85-8f14-5e834af26740')\"\n",
              "              title=\"Convert this dataframe to an interactive table.\"\n",
              "              style=\"display:none;\">\n",
              "        \n",
              "  <svg xmlns=\"http://www.w3.org/2000/svg\" height=\"24px\"viewBox=\"0 0 24 24\"\n",
              "       width=\"24px\">\n",
              "    <path d=\"M0 0h24v24H0V0z\" fill=\"none\"/>\n",
              "    <path d=\"M18.56 5.44l.94 2.06.94-2.06 2.06-.94-2.06-.94-.94-2.06-.94 2.06-2.06.94zm-11 1L8.5 8.5l.94-2.06 2.06-.94-2.06-.94L8.5 2.5l-.94 2.06-2.06.94zm10 10l.94 2.06.94-2.06 2.06-.94-2.06-.94-.94-2.06-.94 2.06-2.06.94z\"/><path d=\"M17.41 7.96l-1.37-1.37c-.4-.4-.92-.59-1.43-.59-.52 0-1.04.2-1.43.59L10.3 9.45l-7.72 7.72c-.78.78-.78 2.05 0 2.83L4 21.41c.39.39.9.59 1.41.59.51 0 1.02-.2 1.41-.59l7.78-7.78 2.81-2.81c.8-.78.8-2.07 0-2.86zM5.41 20L4 18.59l7.72-7.72 1.47 1.35L5.41 20z\"/>\n",
              "  </svg>\n",
              "      </button>\n",
              "      \n",
              "  <style>\n",
              "    .colab-df-container {\n",
              "      display:flex;\n",
              "      flex-wrap:wrap;\n",
              "      gap: 12px;\n",
              "    }\n",
              "\n",
              "    .colab-df-convert {\n",
              "      background-color: #E8F0FE;\n",
              "      border: none;\n",
              "      border-radius: 50%;\n",
              "      cursor: pointer;\n",
              "      display: none;\n",
              "      fill: #1967D2;\n",
              "      height: 32px;\n",
              "      padding: 0 0 0 0;\n",
              "      width: 32px;\n",
              "    }\n",
              "\n",
              "    .colab-df-convert:hover {\n",
              "      background-color: #E2EBFA;\n",
              "      box-shadow: 0px 1px 2px rgba(60, 64, 67, 0.3), 0px 1px 3px 1px rgba(60, 64, 67, 0.15);\n",
              "      fill: #174EA6;\n",
              "    }\n",
              "\n",
              "    [theme=dark] .colab-df-convert {\n",
              "      background-color: #3B4455;\n",
              "      fill: #D2E3FC;\n",
              "    }\n",
              "\n",
              "    [theme=dark] .colab-df-convert:hover {\n",
              "      background-color: #434B5C;\n",
              "      box-shadow: 0px 1px 3px 1px rgba(0, 0, 0, 0.15);\n",
              "      filter: drop-shadow(0px 1px 2px rgba(0, 0, 0, 0.3));\n",
              "      fill: #FFFFFF;\n",
              "    }\n",
              "  </style>\n",
              "\n",
              "      <script>\n",
              "        const buttonEl =\n",
              "          document.querySelector('#df-851d79e4-8804-4d85-8f14-5e834af26740 button.colab-df-convert');\n",
              "        buttonEl.style.display =\n",
              "          google.colab.kernel.accessAllowed ? 'block' : 'none';\n",
              "\n",
              "        async function convertToInteractive(key) {\n",
              "          const element = document.querySelector('#df-851d79e4-8804-4d85-8f14-5e834af26740');\n",
              "          const dataTable =\n",
              "            await google.colab.kernel.invokeFunction('convertToInteractive',\n",
              "                                                     [key], {});\n",
              "          if (!dataTable) return;\n",
              "\n",
              "          const docLinkHtml = 'Like what you see? Visit the ' +\n",
              "            '<a target=\"_blank\" href=https://colab.research.google.com/notebooks/data_table.ipynb>data table notebook</a>'\n",
              "            + ' to learn more about interactive tables.';\n",
              "          element.innerHTML = '';\n",
              "          dataTable['output_type'] = 'display_data';\n",
              "          await google.colab.output.renderOutput(dataTable, element);\n",
              "          const docLink = document.createElement('div');\n",
              "          docLink.innerHTML = docLinkHtml;\n",
              "          element.appendChild(docLink);\n",
              "        }\n",
              "      </script>\n",
              "    </div>\n",
              "  </div>\n",
              "  "
            ]
          },
          "metadata": {},
          "execution_count": 22
        }
      ],
      "source": [
        "df.head()"
      ]
    },
    {
      "cell_type": "markdown",
      "metadata": {
        "id": "TQd4bC3o4mWu"
      },
      "source": [
        "Now our dataset is complete for the further analysis before we train our model with optimal variables."
      ]
    },
    {
      "cell_type": "markdown",
      "metadata": {
        "id": "7cD1UXXaYNhh"
      },
      "source": [
        "### **Handling missing values.**"
      ]
    },
    {
      "cell_type": "code",
      "execution_count": 23,
      "metadata": {
        "colab": {
          "base_uri": "https://localhost:8080/"
        },
        "id": "HIBOYYMiX9w-",
        "outputId": "b60a77b4-b582-4810-8894-979a254391b9"
      },
      "outputs": [
        {
          "output_type": "execute_result",
          "data": {
            "text/plain": [
              "id                    0\n",
              "vendor_id             0\n",
              "pickup_datetime       0\n",
              "dropoff_datetime      0\n",
              "passenger_count       0\n",
              "pickup_longitude      0\n",
              "pickup_latitude       0\n",
              "dropoff_longitude     0\n",
              "dropoff_latitude      0\n",
              "store_and_fwd_flag    0\n",
              "trip_duration         0\n",
              "dtype: int64"
            ]
          },
          "metadata": {},
          "execution_count": 23
        }
      ],
      "source": [
        "#check null values\n",
        "df1.isnull().sum()"
      ]
    },
    {
      "cell_type": "markdown",
      "metadata": {
        "id": "x1OjfqRxYawf"
      },
      "source": [
        "As we can see there are no null values in our dataset."
      ]
    },
    {
      "cell_type": "code",
      "execution_count": 24,
      "metadata": {
        "colab": {
          "base_uri": "https://localhost:8080/"
        },
        "id": "hYh8Gd0RX9ln",
        "outputId": "dbd2463b-b7f7-4788-ead3-0788afc6d026"
      },
      "outputs": [
        {
          "output_type": "execute_result",
          "data": {
            "text/plain": [
              "id2875421    1\n",
              "id3505385    1\n",
              "id1499125    1\n",
              "id0691227    1\n",
              "id1682481    1\n",
              "            ..\n",
              "id0154336    1\n",
              "id2546928    1\n",
              "id3154693    1\n",
              "id1097988    1\n",
              "id0859354    1\n",
              "Name: id, Length: 1048575, dtype: int64"
            ]
          },
          "metadata": {},
          "execution_count": 24
        }
      ],
      "source": [
        "df['id'].value_counts()"
      ]
    },
    {
      "cell_type": "markdown",
      "metadata": {
        "id": "SNrJZ22hcNx2"
      },
      "source": [
        "## **EDA**"
      ]
    },
    {
      "cell_type": "markdown",
      "metadata": {
        "id": "9EttjjYrgpEW"
      },
      "source": [
        "### **Total Trip per hour**"
      ]
    },
    {
      "cell_type": "code",
      "execution_count": 25,
      "metadata": {
        "colab": {
          "base_uri": "https://localhost:8080/",
          "height": 0
        },
        "id": "W9Uq59nGgyuU",
        "outputId": "0444d829-0ee1-48a3-de1b-6d51be932952"
      },
      "outputs": [
        {
          "output_type": "display_data",
          "data": {
            "text/plain": [
              "<Figure size 432x288 with 1 Axes>"
            ],
            "image/png": "[encoded data removed]"
          },
          "metadata": {}
        }
      ],
      "source": [
        "sns.countplot(df.pickup_hour)\n",
        "plt.show()"
      ]
    },
    {
      "cell_type": "markdown",
      "metadata": {
        "id": "vVcXiTpahAXI"
      },
      "source": [
        "### **Inference**\n",
        "\n",
        "It's inline with the general trend of taxi pickups which starts increasing from 6AM in the morning and then declines from late evening i.e. around 8 PM. There is no unusual behavior here."
      ]
    },
    {
      "cell_type": "markdown",
      "metadata": {
        "id": "8cS0yBgbhiaO"
      },
      "source": [
        "### **Total trips per weekday**"
      ]
    },
    {
      "cell_type": "code",
      "execution_count": 26,
      "metadata": {
        "colab": {
          "base_uri": "https://localhost:8080/",
          "height": 0
        },
        "id": "_jRdu6TEhncq",
        "outputId": "5bf4eb69-fe03-4e7b-b020-4257fbb04d29"
      },
      "outputs": [
        {
          "output_type": "display_data",
          "data": {
            "text/plain": [
              "<Figure size 576x432 with 1 Axes>"
            ],
            "image/png": "[encoded data removed]"
          },
          "metadata": {}
        }
      ],
      "source": [
        "#Let's take a look now at the distribution of taxi pickups across the week.\n",
        "plt.figure(figsize = (8,6))\n",
        "sns.countplot(df.weekday_num)\n",
        "plt.xlabel(' Month ')\n",
        "plt.ylabel('Pickup counts')\n",
        "plt.show()"
      ]
    },
    {
      "cell_type": "markdown",
      "metadata": {
        "id": "Ot4uD8oLh9io"
      },
      "source": [
        "### **Observation**\n",
        "\n",
        "Here we can see an increasing trend of taxi pickups starting from Monday till Friday. The trend starts declining from saturday till monday which is normal where some office going people likes to stay at home for rest on the weekends."
      ]
    },
    {
      "cell_type": "markdown",
      "metadata": {
        "id": "ev4GfzAYdPLU"
      },
      "source": [
        "### **Trip Duration per hour**"
      ]
    },
    {
      "cell_type": "code",
      "execution_count": 27,
      "metadata": {
        "colab": {
          "base_uri": "https://localhost:8080/",
          "height": 0
        },
        "id": "ThyPJ9decfHg",
        "outputId": "96565ede-f042-49a5-a6f7-a03f21796fd6"
      },
      "outputs": [
        {
          "output_type": "display_data",
          "data": {
            "text/plain": [
              "<Figure size 432x288 with 1 Axes>"
            ],
            "image/png": "[encoded data removed]"
          },
          "metadata": {}
        }
      ],
      "source": [
        "group1 = df.groupby('pickup_hour').trip_duration.mean()\n",
        "sns.pointplot(group1.index, group1.values)\n",
        "plt.ylabel('Trip Duration (seconds)')\n",
        "plt.xlabel('Pickup Hour')\n",
        "plt.show()"
      ]
    },
    {
      "cell_type": "markdown",
      "metadata": {
        "id": "nvDx-Empinjz"
      },
      "source": [
        "### **Observations**\n",
        "\n",
        "Average trip duration is lowest at 6 AM when there is minimal traffic on the roads.\n",
        "\n",
        "Average trip duration is generally highest around 3 PM during the busy streets\n",
        "\n",
        "Trip duration on an average is similar during early morning hours i.e. before 6 AM & late evening hours i.e. after 6 PM."
      ]
    },
    {
      "cell_type": "markdown",
      "metadata": {
        "id": "IPRPVO9heGjf"
      },
      "source": [
        "### **Trip Duration per weekdays**"
      ]
    },
    {
      "cell_type": "code",
      "execution_count": 28,
      "metadata": {
        "colab": {
          "base_uri": "https://localhost:8080/",
          "height": 0
        },
        "id": "Sg8Ykkd6eaxr",
        "outputId": "152906a4-79a2-45cf-8172-fb31cc7329d0"
      },
      "outputs": [
        {
          "output_type": "display_data",
          "data": {
            "text/plain": [
              "<Figure size 432x288 with 1 Axes>"
            ],
            "image/png": "[encoded data removed]"
          },
          "metadata": {}
        }
      ],
      "source": [
        "group2 = df.groupby('weekday_num').trip_duration.mean()\n",
        "sns.pointplot(group2.index, group2.values)\n",
        "plt.ylabel('Trip Duration (seconds)')\n",
        "plt.xlabel('Weekday')\n",
        "plt.show()"
      ]
    },
    {
      "cell_type": "markdown",
      "metadata": {
        "id": "E7z1Kf1Mi51t"
      },
      "source": [
        "We can see that trip duration is almost equally distributed across the week on a scale of 0-1000 minutes with minimal difference in the duration times. Also, it is observed that trip duration on thursday is longest among all days."
      ]
    },
    {
      "cell_type": "markdown",
      "metadata": {
        "id": "fU_RovLaefDx"
      },
      "source": [
        "### **Trip duration per month**"
      ]
    },
    {
      "cell_type": "code",
      "execution_count": 29,
      "metadata": {
        "colab": {
          "base_uri": "https://localhost:8080/",
          "height": 0
        },
        "id": "ayASYJ0eeqTu",
        "outputId": "f6f1573e-3888-4776-887f-0a6c5e0a9174"
      },
      "outputs": [
        {
          "output_type": "display_data",
          "data": {
            "text/plain": [
              "<Figure size 432x288 with 1 Axes>"
            ],
            "image/png": "[encoded data removed]"
          },
          "metadata": {}
        }
      ],
      "source": [
        "group3 = df.groupby('month').trip_duration.mean()\n",
        "sns.pointplot(group3.index, group3.values)\n",
        "plt.ylabel('Trip Duration (seconds)')\n",
        "plt.xlabel('Month')\n",
        "plt.show()"
      ]
    },
    {
      "cell_type": "markdown",
      "metadata": {
        "id": "ADkDhJihi_Zz"
      },
      "source": [
        "### **Observations**\n",
        "\n",
        "We can see an increasing trend in the average trip duration along with each subsequent month.\n",
        "\n",
        "The duration difference between each month is not much. It has increased gradually over a period of 6 months.\n",
        "\n",
        "It is lowest during february when winters starts declining.\n",
        "\n",
        "There might be some seasonal parameters like wind/rain which can be a factor of this gradual increase in trip duration over a period. Like May is generally the considered as the wettest month in NYC and which is inline with our visualization.\n",
        " As it generally takes longer on the roads due to traffic jams during rainy season. So natually the trip duration would increase towards April May and June."
      ]
    },
    {
      "cell_type": "markdown",
      "metadata": {
        "id": "aYBIuMP-ew2R"
      },
      "source": [
        "### **Trip Duration per vendor**"
      ]
    },
    {
      "cell_type": "code",
      "execution_count": 30,
      "metadata": {
        "colab": {
          "base_uri": "https://localhost:8080/",
          "height": 0
        },
        "id": "4VKV-av_e7iU",
        "outputId": "6bb4307c-f9cf-4924-c5ce-0cc355a449b5"
      },
      "outputs": [
        {
          "output_type": "display_data",
          "data": {
            "text/plain": [
              "<Figure size 432x288 with 1 Axes>"
            ],
            "image/png": "[encoded data removed]"
          },
          "metadata": {}
        }
      ],
      "source": [
        "group4 = df.groupby('vendor_id').trip_duration.mean()\n",
        "sns.barplot(group4.index, group4.values)\n",
        "plt.ylabel('Trip Duration (seconds)')\n",
        "plt.xlabel('Vendor')\n",
        "plt.show()"
      ]
    },
    {
      "cell_type": "markdown",
      "metadata": {
        "id": "2dASSLnJjPGv"
      },
      "source": [
        "Vendor 2 takes the crown. Average trip duration for vendor 2 is higher than vendor 1 by approx 200 seconds i.e. atleast 3 minutes per trip."
      ]
    },
    {
      "cell_type": "markdown",
      "metadata": {
        "id": "2U4kkoTIe-SX"
      },
      "source": [
        "### **Distance per Hour**"
      ]
    },
    {
      "cell_type": "code",
      "execution_count": 31,
      "metadata": {
        "colab": {
          "base_uri": "https://localhost:8080/",
          "height": 0
        },
        "id": "ix-bEQBtfLdf",
        "outputId": "ac5d6143-ec30-4d1a-9de9-be7ff3b76b4a"
      },
      "outputs": [
        {
          "output_type": "display_data",
          "data": {
            "text/plain": [
              "<Figure size 432x288 with 1 Axes>"
            ],
            "image/png": "[encoded data removed]"
          },
          "metadata": {}
        }
      ],
      "source": [
        "group5 = df.groupby('pickup_hour').distance.mean()\n",
        "sns.pointplot(group5.index, group5.values)\n",
        "plt.ylabel('Distance (km)')\n",
        "plt.show()"
      ]
    },
    {
      "cell_type": "markdown",
      "metadata": {
        "id": "1zrv69JcjQqJ"
      },
      "source": [
        "### **Observations**\n",
        "\n",
        "Trip distance is highest during early morning hours which can account for some things like:\n",
        "Outstation trips taken during the weekends.\n",
        "Longer trips towards the city airport which is located in the outskirts of the city.\n",
        "\n",
        "Trip distance is fairly equal from morning till the evening varying around 3 - 3.5 kms.\n",
        "\n",
        "It starts increasing gradually towards the late night hours starting from evening till 5 AM and decrease steeply towards morning."
      ]
    },
    {
      "cell_type": "markdown",
      "metadata": {
        "id": "6ZpSh1sSfOgX"
      },
      "source": [
        "### **Distance per weekdays**"
      ]
    },
    {
      "cell_type": "code",
      "execution_count": 32,
      "metadata": {
        "colab": {
          "base_uri": "https://localhost:8080/",
          "height": 0
        },
        "id": "wWYNITB0fUMQ",
        "outputId": "3d052363-00a0-4763-daf7-ee2d01e5906e"
      },
      "outputs": [
        {
          "output_type": "display_data",
          "data": {
            "text/plain": [
              "<Figure size 432x288 with 1 Axes>"
            ],
            "image/png": "[encoded data removed]"
          },
          "metadata": {}
        }
      ],
      "source": [
        "group6 = df.groupby('weekday_num').distance.mean()\n",
        "sns.pointplot(group6.index, group6.values)\n",
        "plt.ylabel('Distance (km)')\n",
        "plt.show()"
      ]
    },
    {
      "cell_type": "markdown",
      "metadata": {
        "id": "j9okA5aZjg9z"
      },
      "source": [
        "So it's a fairly equal distribution with average distance metric verying around 3.5 km/h with Sunday being at the top may be due to outstation trips or night trips towards the airport."
      ]
    },
    {
      "cell_type": "markdown",
      "metadata": {
        "id": "vKpxIp8Id_BP"
      },
      "source": [
        "### **Avarage speed per hour**"
      ]
    },
    {
      "cell_type": "code",
      "execution_count": 33,
      "metadata": {
        "colab": {
          "base_uri": "https://localhost:8080/",
          "height": 0
        },
        "id": "cBbPAsjXZI-x",
        "outputId": "b4635e82-6997-4ba0-bc18-4ec658f646e3"
      },
      "outputs": [
        {
          "output_type": "display_data",
          "data": {
            "text/plain": [
              "<Figure size 432x288 with 1 Axes>"
            ],
            "image/png": "[encoded data removed]"
          },
          "metadata": {}
        }
      ],
      "source": [
        "# Let's look at the average speed of NYC Taxi per hour\n",
        "group = df.groupby('pickup_hour').speed.mean()\n",
        "sns.pointplot(group.index, group.values)\n",
        "plt.show()"
      ]
    },
    {
      "cell_type": "markdown",
      "metadata": {
        "id": "AbCheuCx5JGb"
      },
      "source": [
        "### **Observation**\n",
        "\n",
        "\n",
        "*   The average trend is totally inline with the normal circumstances.\n",
        "*   Average speed tend to increase after late evening and continues to increase gradually till the late early morning hours.\n",
        "*   Average taxi speed is highest at 5 AM in the morning, then it declines steeply as the office hours approaches.\n",
        "*   Average taxi speed is more or less same during the office hours i.e. from 8 AM till 6PM in the evening."
      ]
    },
    {
      "cell_type": "markdown",
      "metadata": {
        "id": "68vmEPW142yO"
      },
      "source": [
        "### **Average speed per weekday**\n",
        "Let's visualize that on an average what is the speed of a taxi on any given weekday."
      ]
    },
    {
      "cell_type": "code",
      "execution_count": 34,
      "metadata": {
        "colab": {
          "base_uri": "https://localhost:8080/",
          "height": 0
        },
        "id": "DqXdX-_y47tw",
        "outputId": "93c05d7e-c612-4fed-f1bf-7386a040713e"
      },
      "outputs": [
        {
          "output_type": "display_data",
          "data": {
            "text/plain": [
              "<Figure size 432x288 with 1 Axes>"
            ],
            "image/png": "[encoded data removed]"
          },
          "metadata": {}
        }
      ],
      "source": [
        "group10 = df.groupby('weekday_num').speed.mean()\n",
        "sns.pointplot(group10.index, group10.values)\n",
        "plt.show()"
      ]
    },
    {
      "cell_type": "markdown",
      "metadata": {
        "id": "ylFShMPo5saD"
      },
      "source": [
        "### **Observations**\n",
        "\n",
        "\n",
        "*   Average taxi speed is higher on weekend as compared to the weekdays which is obvious when there is mostly rush of office goers and business owners.\n",
        "*   Even on monday the average taxi speed is shown higher which is quite surprising when it is one of the most busiest day after the weekend. There can be several possibility for such behaviour\n",
        "      1.   Lot of customers who come back from outstation in early hours of Monday before 6 AM to attend office on time.\n",
        "      2.   Early morning hours customers who come from the airports after vacation to attend office/business on time for the coming week.\n",
        "*   There could be some more reasons as well which only a local must be aware of.\n",
        "We also can't deny the anomalies in the dataset. which is quite cumbersome to spot in such a large dataset.\n",
        "\n",
        "\n",
        "\n",
        "\n",
        "\n"
      ]
    },
    {
      "cell_type": "markdown",
      "metadata": {
        "id": "di0YXGK1ky0Q"
      },
      "source": [
        "# **Feature Selection**"
      ]
    },
    {
      "cell_type": "code",
      "execution_count": 35,
      "metadata": {
        "colab": {
          "base_uri": "https://localhost:8080/"
        },
        "id": "vBTcpp1fkP5k",
        "outputId": "35c9e8f5-6971-48da-bb06-f220844f8ea4"
      },
      "outputs": [
        {
          "output_type": "execute_result",
          "data": {
            "text/plain": [
              "[(0, 'id'),\n",
              " (1, 'vendor_id'),\n",
              " (2, 'pickup_datetime'),\n",
              " (3, 'dropoff_datetime'),\n",
              " (4, 'passenger_count'),\n",
              " (5, 'pickup_longitude'),\n",
              " (6, 'pickup_latitude'),\n",
              " (7, 'dropoff_longitude'),\n",
              " (8, 'dropoff_latitude'),\n",
              " (9, 'store_and_fwd_flag'),\n",
              " (10, 'trip_duration'),\n",
              " (11, 'weekday'),\n",
              " (12, 'month'),\n",
              " (13, 'weekday_num'),\n",
              " (14, 'pickup_hour'),\n",
              " (15, 'distance'),\n",
              " (16, 'speed'),\n",
              " (17, 'flag_Y'),\n",
              " (18, 'vendor_id_2'),\n",
              " (19, 'month_2'),\n",
              " (20, 'month_3'),\n",
              " (21, 'month_4'),\n",
              " (22, 'month_5'),\n",
              " (23, 'month_6'),\n",
              " (24, 'month_7'),\n",
              " (25, 'month_8'),\n",
              " (26, 'month_9'),\n",
              " (27, 'month_10'),\n",
              " (28, 'month_11'),\n",
              " (29, 'month_12'),\n",
              " (30, 'weekday_num_1'),\n",
              " (31, 'weekday_num_2'),\n",
              " (32, 'weekday_num_3'),\n",
              " (33, 'weekday_num_4'),\n",
              " (34, 'weekday_num_5'),\n",
              " (35, 'weekday_num_6'),\n",
              " (36, 'pickup_hour_1'),\n",
              " (37, 'pickup_hour_2'),\n",
              " (38, 'pickup_hour_3'),\n",
              " (39, 'pickup_hour_4'),\n",
              " (40, 'pickup_hour_5'),\n",
              " (41, 'pickup_hour_6'),\n",
              " (42, 'pickup_hour_7'),\n",
              " (43, 'pickup_hour_8'),\n",
              " (44, 'pickup_hour_9'),\n",
              " (45, 'pickup_hour_10'),\n",
              " (46, 'pickup_hour_11'),\n",
              " (47, 'pickup_hour_12'),\n",
              " (48, 'pickup_hour_13'),\n",
              " (49, 'pickup_hour_14'),\n",
              " (50, 'pickup_hour_15'),\n",
              " (51, 'pickup_hour_16'),\n",
              " (52, 'pickup_hour_17'),\n",
              " (53, 'pickup_hour_18'),\n",
              " (54, 'pickup_hour_19'),\n",
              " (55, 'pickup_hour_20'),\n",
              " (56, 'pickup_hour_21'),\n",
              " (57, 'pickup_hour_22'),\n",
              " (58, 'pickup_hour_23'),\n",
              " (59, 'passenger_count_1'),\n",
              " (60, 'passenger_count_2'),\n",
              " (61, 'passenger_count_3'),\n",
              " (62, 'passenger_count_4'),\n",
              " (63, 'passenger_count_5'),\n",
              " (64, 'passenger_count_6'),\n",
              " (65, 'passenger_count_7'),\n",
              " (66, 'passenger_count_8'),\n",
              " (67, 'passenger_count_9')]"
            ]
          },
          "metadata": {},
          "execution_count": 35
        }
      ],
      "source": [
        "#First check the index of the features and label\n",
        "list(zip( range(0,len(df.columns)),df.columns))"
      ]
    },
    {
      "cell_type": "code",
      "execution_count": 36,
      "metadata": {
        "id": "XcOOHsPhkfZN"
      },
      "outputs": [],
      "source": [
        "Y = df.iloc[:,10].values\n",
        "X = df.iloc[:,range(15,61)].values"
      ]
    },
    {
      "cell_type": "code",
      "execution_count": 37,
      "metadata": {
        "colab": {
          "base_uri": "https://localhost:8080/"
        },
        "id": "SPgcszznkp-i",
        "outputId": "45f0a154-7295-4fa1-9c34-2595083edb2b"
      },
      "outputs": [
        {
          "output_type": "stream",
          "name": "stdout",
          "text": [
            "Let's append 1048575 rows of 1's as the first column in the X array\n"
          ]
        }
      ],
      "source": [
        "print(\"Let's append {} rows of 1's as the first column in the X array\".format(X.shape[0]))"
      ]
    },
    {
      "cell_type": "code",
      "execution_count": 38,
      "metadata": {
        "id": "IydrakNQkwMz"
      },
      "outputs": [],
      "source": [
        "X1 = np.append(arr = np.ones((X.shape[0],1)).astype(int), values = X, axis = 1)"
      ]
    },
    {
      "cell_type": "code",
      "execution_count": 39,
      "metadata": {
        "colab": {
          "base_uri": "https://localhost:8080/"
        },
        "id": "j5Y0pTvCkx0P",
        "outputId": "1cdb7f02-ce28-429c-a456-9c910787b994"
      },
      "outputs": [
        {
          "output_type": "execute_result",
          "data": {
            "text/plain": [
              "(1048575, 47)"
            ]
          },
          "metadata": {},
          "execution_count": 39
        }
      ],
      "source": [
        "X1.shape"
      ]
    },
    {
      "cell_type": "code",
      "execution_count": 40,
      "metadata": {
        "id": "qV-jgUHok2qo"
      },
      "outputs": [],
      "source": [
        "# X_opt = X1[:,[0,1,3,4,6,7,8,9,10,11]]\n",
        "# regressor_OLS = sm.OLS(endog = Y, exog = X_opt).fit()\n",
        "# regressor_OLS.summary()"
      ]
    },
    {
      "cell_type": "code",
      "execution_count": 41,
      "metadata": {
        "colab": {
          "base_uri": "https://localhost:8080/",
          "height": 1000
        },
        "id": "Ele0ltULk_a7",
        "outputId": "a9463bc0-3833-418c-a251-dc8bc3c69779"
      },
      "outputs": [
        {
          "output_type": "stream",
          "name": "stdout",
          "text": [
            "Probability values of each feature \n",
            "\n",
            "[8.80973647e-83 0.00000000e+00 0.00000000e+00 6.27497883e-01\n",
            " 1.10882845e-61 4.54343772e-01 7.80645525e-01 8.49920794e-01\n",
            " 2.16697671e-02 2.32456266e-01 2.07082417e-01 6.09821555e-01\n",
            " 7.93186358e-01 3.25057102e-01 5.35536806e-01 7.03850411e-01\n",
            " 5.18914536e-02 6.09267316e-02 1.61468208e-02 1.38276314e-01\n",
            " 8.45546223e-04 1.92087361e-02 9.46018570e-01 5.07997474e-01\n",
            " 7.13702868e-01 8.34039099e-01 1.09000707e-01 6.08781452e-01\n",
            " 1.07620685e-01 8.94703458e-01 9.40710803e-01 4.99705660e-01\n",
            " 9.74636144e-01 6.62836022e-01 4.89131724e-01 4.86911193e-01\n",
            " 1.02253309e-01 4.03865996e-01 8.06017090e-01 9.06968109e-01\n",
            " 3.52504632e-01 1.76031509e-01 2.06015855e-01 2.73222534e-02\n",
            " 3.27741094e-01 3.31954864e-01]\n",
            "\n",
            "\n",
            "Feature at index 32 is removed \n",
            "\n",
            "44 dimensions remaining now... \n",
            "\n",
            "====================================================================\n",
            "\n",
            "Probability values of each feature \n",
            "\n",
            "[2.83860981e-123 0.00000000e+000 0.00000000e+000 6.27451702e-001\n",
            " 1.10869895e-061 4.54376209e-001 7.80657384e-001 8.49977467e-001\n",
            " 2.16687104e-002 2.32432556e-001 2.07051219e-001 6.09765016e-001\n",
            " 7.93144877e-001 3.25119703e-001 5.35410962e-001 7.03831598e-001\n",
            " 5.18753530e-002 6.09289439e-002 1.61308184e-002 1.38084552e-001\n",
            " 8.40948531e-004 1.91469891e-002 9.24401848e-001 4.52285715e-001\n",
            " 6.79532024e-001 8.32054702e-001 8.95082173e-002 5.74904370e-001\n",
            " 5.92738334e-002 8.89996135e-001 9.11171398e-001 4.28531252e-001\n",
            " 5.80636698e-001 3.88182819e-001 3.83538486e-001 4.44782740e-002\n",
            " 3.04936032e-001 7.46667677e-001 8.65610742e-001 2.56813332e-001\n",
            " 9.93240677e-002 1.23770014e-001 6.24672737e-003 2.44369937e-001\n",
            " 3.31751637e-001]\n",
            "\n",
            "\n",
            "Feature at index 22 is removed \n",
            "\n",
            "43 dimensions remaining now... \n",
            "\n",
            "====================================================================\n",
            "\n",
            "Probability values of each feature \n",
            "\n",
            "[7.73014685e-135 0.00000000e+000 0.00000000e+000 6.27461211e-001\n",
            " 1.11328781e-061 4.54605679e-001 7.80921135e-001 8.50356405e-001\n",
            " 2.16793189e-002 2.32548262e-001 2.06997987e-001 6.09582199e-001\n",
            " 7.92818701e-001 3.25196058e-001 5.34969603e-001 7.03531134e-001\n",
            " 5.18037453e-002 6.09313982e-002 1.61069831e-002 1.37707146e-001\n",
            " 8.31265554e-004 1.89983819e-002 4.54053465e-001 6.87392329e-001\n",
            " 8.17054229e-001 8.24057217e-002 5.49882422e-001 4.69150980e-002\n",
            " 8.62632586e-001 9.30022527e-001 3.92529885e-001 5.83008001e-001\n",
            " 3.82126985e-001 3.76937891e-001 3.80458256e-002 2.97208362e-001\n",
            " 7.57475292e-001 8.83382353e-001 2.19524842e-001 7.74445411e-002\n",
            " 9.86662540e-002 4.46338029e-003 2.11969119e-001 3.31471470e-001]\n",
            "\n",
            "\n",
            "Feature at index 29 is removed \n",
            "\n",
            "42 dimensions remaining now... \n",
            "\n",
            "====================================================================\n",
            "\n",
            "Probability values of each feature \n",
            "\n",
            "[6.23199340e-150 0.00000000e+000 0.00000000e+000 6.27496258e-001\n",
            " 1.10204972e-061 4.54541812e-001 7.80786548e-001 8.50055507e-001\n",
            " 2.16870831e-002 2.32540538e-001 2.07025753e-001 6.09689719e-001\n",
            " 7.92980550e-001 3.24997146e-001 5.35413007e-001 7.03672904e-001\n",
            " 5.18718478e-002 6.09425669e-002 1.61374202e-002 1.38061580e-001\n",
            " 8.34642460e-004 1.90812995e-002 4.55271566e-001 6.94332710e-001\n",
            " 8.03678613e-001 7.62549507e-002 5.25987632e-001 3.61971702e-002\n",
            " 8.34598711e-001 3.56482213e-001 5.83445338e-001 3.73756005e-001\n",
            " 3.67840750e-001 3.15575105e-002 2.87519598e-001 7.67093462e-001\n",
            " 9.00771613e-001 1.83219908e-001 5.82172477e-002 7.61677283e-002\n",
            " 3.00697814e-003 1.81451656e-001 3.32231843e-001]\n",
            "\n",
            "\n",
            "Feature at index 36 is removed \n",
            "\n",
            "41 dimensions remaining now... \n",
            "\n",
            "====================================================================\n",
            "\n",
            "Probability values of each feature \n",
            "\n",
            "[6.63805973e-163 0.00000000e+000 0.00000000e+000 6.27606674e-001\n",
            " 1.09819065e-061 4.54504641e-001 7.80756420e-001 8.50161294e-001\n",
            " 2.17060173e-002 2.32730251e-001 2.07093791e-001 6.09535319e-001\n",
            " 7.92998611e-001 3.24729176e-001 5.35733429e-001 7.03761606e-001\n",
            " 5.19832707e-002 6.10068554e-002 1.61819399e-002 1.38476093e-001\n",
            " 8.39797618e-004 1.91876702e-002 4.61615149e-001 7.05118989e-001\n",
            " 7.89005137e-001 7.11493977e-002 5.03029061e-001 2.87927591e-002\n",
            " 8.03438327e-001 3.24343836e-001 5.93088976e-001 3.74665478e-001\n",
            " 3.68217808e-001 2.82281304e-002 2.86165080e-001 7.85073600e-001\n",
            " 1.53952923e-001 4.47215022e-002 5.98646543e-002 2.30305676e-003\n",
            " 1.56628070e-001 3.31979022e-001]\n",
            "\n",
            "\n",
            "Feature at index 7 is removed \n",
            "\n",
            "40 dimensions remaining now... \n",
            "\n",
            "====================================================================\n",
            "\n",
            "Probability values of each feature \n",
            "\n",
            "[8.71104975e-196 0.00000000e+000 0.00000000e+000 6.27410931e-001\n",
            " 1.11140034e-061 4.49294747e-001 8.32710349e-001 1.04214984e-002\n",
            " 2.03229112e-001 1.61880135e-001 5.45587695e-001 7.31756759e-001\n",
            " 2.68744619e-001 4.71855050e-001 6.40019961e-001 5.19350678e-002\n",
            " 6.09788724e-002 1.61863625e-002 1.38664765e-001 8.27809734e-004\n",
            " 1.92406389e-002 4.62297447e-001 7.05852825e-001 7.88328638e-001\n",
            " 7.11021798e-002 5.03352054e-001 2.88492160e-002 8.03857560e-001\n",
            " 3.24557899e-001 5.93048929e-001 3.74766636e-001 3.68271803e-001\n",
            " 2.82374685e-002 2.86383999e-001 7.85286241e-001 1.54097389e-001\n",
            " 4.47952946e-002 5.99464783e-002 2.29686909e-003 1.56915666e-001\n",
            " 3.31822121e-001]\n",
            "\n",
            "\n",
            "Feature at index 6 is removed \n",
            "\n",
            "39 dimensions remaining now... \n",
            "\n",
            "====================================================================\n",
            "\n",
            "Probability values of each feature \n",
            "\n",
            "[1.00865768e-209 0.00000000e+000 0.00000000e+000 6.27518473e-001\n",
            " 1.11033113e-061 4.66682067e-001 8.06843978e-003 2.02117506e-001\n",
            " 1.42147703e-001 5.10626388e-001 6.94623750e-001 2.41389688e-001\n",
            " 4.37721962e-001 6.03336787e-001 5.14856969e-002 6.10885825e-002\n",
            " 1.59469013e-002 1.39836108e-001 8.36162117e-004 1.90735588e-002\n",
            " 4.62775978e-001 7.05894630e-001 7.88801038e-001 7.10688997e-002\n",
            " 5.03049315e-001 2.88143568e-002 8.03844558e-001 3.24694139e-001\n",
            " 5.93093961e-001 3.74531621e-001 3.68274621e-001 2.82566074e-002\n",
            " 2.86290729e-001 7.85404719e-001 1.53884719e-001 4.47569279e-002\n",
            " 5.98930285e-002 2.30384536e-003 1.56658988e-001 3.31625133e-001]\n",
            "\n",
            "\n",
            "Feature at index 26 is removed \n",
            "\n",
            "38 dimensions remaining now... \n",
            "\n",
            "====================================================================\n",
            "\n",
            "Probability values of each feature \n",
            "\n",
            "[8.58983642e-219 0.00000000e+000 0.00000000e+000 6.27611487e-001\n",
            " 1.11700668e-061 4.66221360e-001 8.04692815e-003 2.01960837e-001\n",
            " 1.42170242e-001 5.10858987e-001 6.94411339e-001 2.41691828e-001\n",
            " 4.37223874e-001 6.03128636e-001 5.12909474e-002 6.11998205e-002\n",
            " 1.59117350e-002 1.39246333e-001 8.12906416e-004 1.86778135e-002\n",
            " 4.42527153e-001 6.86017997e-001 8.04906148e-001 7.34220412e-002\n",
            " 5.20125687e-001 2.96654112e-002 3.38887482e-001 5.56336485e-001\n",
            " 3.43381978e-001 3.36620994e-001 2.29213584e-002 2.60435399e-001\n",
            " 7.46471803e-001 1.60165673e-001 4.59149681e-002 6.16935222e-002\n",
            " 1.63547375e-003 1.63181162e-001 3.29529129e-001]\n",
            "\n",
            "\n",
            "Feature at index 22 is removed \n",
            "\n",
            "37 dimensions remaining now... \n",
            "\n",
            "====================================================================\n",
            "\n",
            "Probability values of each feature \n",
            "\n",
            "[1.00489213e-219 0.00000000e+000 0.00000000e+000 6.27928715e-001\n",
            " 1.06693158e-061 4.65978676e-001 8.06189127e-003 2.02118978e-001\n",
            " 1.42342151e-001 5.10973311e-001 6.94561082e-001 2.41546743e-001\n",
            " 4.37969269e-001 6.03429537e-001 5.13999607e-002 6.11476193e-002\n",
            " 1.59385667e-002 1.39929626e-001 8.24786761e-004 1.89269299e-002\n",
            " 4.33654448e-001 6.76683874e-001 7.48559363e-002 5.28833299e-001\n",
            " 3.05765068e-002 3.46881340e-001 5.42433642e-001 3.32317717e-001\n",
            " 3.25501979e-001 2.14157045e-002 2.51455128e-001 7.30894097e-001\n",
            " 1.64988687e-001 4.74329572e-002 6.37068898e-002 1.46673116e-003\n",
            " 1.67853822e-001 3.30024996e-001]\n",
            "\n",
            "\n",
            "Feature at index 31 is removed \n",
            "\n",
            "36 dimensions remaining now... \n",
            "\n",
            "====================================================================\n",
            "\n",
            "Probability values of each feature \n",
            "\n",
            "[2.75820036e-229 0.00000000e+000 0.00000000e+000 6.28711417e-001\n",
            " 1.07414635e-061 4.65859409e-001 8.07012526e-003 2.02635115e-001\n",
            " 1.42534860e-001 5.10426590e-001 6.95074921e-001 2.41396805e-001\n",
            " 4.38554326e-001 6.02898144e-001 5.15245394e-002 6.13757002e-002\n",
            " 1.60562956e-002 1.40678746e-001 8.31915983e-004 1.90479671e-002\n",
            " 4.51902349e-001 6.97671308e-001 7.00371715e-002 5.02257983e-001\n",
            " 2.56329081e-002 3.15605753e-001 5.73966318e-001 3.53875562e-001\n",
            " 3.47016117e-001 2.29187606e-002 2.67965854e-001 1.41743765e-001\n",
            " 3.86289831e-002 5.25956851e-002 1.53804360e-003 1.47346536e-001\n",
            " 3.28311870e-001]\n",
            "\n",
            "\n",
            "Feature at index 21 is removed \n",
            "\n",
            "35 dimensions remaining now... \n",
            "\n",
            "====================================================================\n",
            "\n",
            "Probability values of each feature \n",
            "\n",
            "[1.05611784e-230 0.00000000e+000 0.00000000e+000 6.28348025e-001\n",
            " 1.13128207e-061 4.66194083e-001 8.04246593e-003 2.02499116e-001\n",
            " 1.42524217e-001 5.09904005e-001 6.94232724e-001 2.41917129e-001\n",
            " 4.36739777e-001 6.02680129e-001 5.11005760e-002 6.13589275e-002\n",
            " 1.59399585e-002 1.38805533e-001 7.91737533e-004 1.82829438e-002\n",
            " 4.63791244e-001 6.75310387e-002 4.88407521e-001 2.37172499e-002\n",
            " 3.01567318e-001 5.92357792e-001 3.67446548e-001 3.60545586e-001\n",
            " 2.42833555e-002 2.78635438e-001 1.32189776e-001 3.52526655e-002\n",
            " 4.82246539e-002 1.65142063e-003 1.38291866e-001 3.26695863e-001]\n",
            "\n",
            "\n",
            "Feature at index 10 is removed \n",
            "\n",
            "34 dimensions remaining now... \n",
            "\n",
            "====================================================================\n",
            "\n",
            "Probability values of each feature \n",
            "\n",
            "[3.24906113e-233 0.00000000e+000 0.00000000e+000 6.28116938e-001\n",
            " 1.12416287e-061 4.28967541e-001 6.24540659e-003 1.80001061e-001\n",
            " 1.49735186e-001 5.27958080e-001 2.53059064e-001 4.53202736e-001\n",
            " 6.24712434e-001 5.11584266e-002 5.73929848e-002 1.59230623e-002\n",
            " 1.37567514e-001 7.84312543e-004 1.84300569e-002 4.63565227e-001\n",
            " 6.75418438e-002 4.88093090e-001 2.36806946e-002 3.01357169e-001\n",
            " 5.93077747e-001 3.68044590e-001 3.60583657e-001 2.43521305e-002\n",
            " 2.79112267e-001 1.32090600e-001 3.52452535e-002 4.81508794e-002\n",
            " 1.65918125e-003 1.37734871e-001 3.26713681e-001]\n",
            "\n",
            "\n",
            "Feature at index 3 is removed \n",
            "\n",
            "33 dimensions remaining now... \n",
            "\n",
            "====================================================================\n",
            "\n",
            "Probability values of each feature \n",
            "\n",
            "[2.73228898e-233 0.00000000e+000 0.00000000e+000 2.51291192e-062\n",
            " 4.29453795e-001 6.23855099e-003 1.80187549e-001 1.49770301e-001\n",
            " 5.28127370e-001 2.53417415e-001 4.53007778e-001 6.25249436e-001\n",
            " 5.10813663e-002 5.72727319e-002 1.59276749e-002 1.37320547e-001\n",
            " 7.80705112e-004 1.83470174e-002 4.63212915e-001 6.76654342e-002\n",
            " 4.88749658e-001 2.37620991e-002 3.01380265e-001 5.93537848e-001\n",
            " 3.68583053e-001 3.61023816e-001 2.44175136e-002 2.79834400e-001\n",
            " 1.32041920e-001 3.53441951e-002 4.83294808e-002 1.65549892e-003\n",
            " 1.37859276e-001 3.27033132e-001]\n",
            "\n",
            "\n",
            "Feature at index 11 is removed \n",
            "\n",
            "32 dimensions remaining now... \n",
            "\n",
            "====================================================================\n",
            "\n",
            "Probability values of each feature \n",
            "\n",
            "[1.04705604e-235 0.00000000e+000 0.00000000e+000 2.52161326e-062\n",
            " 3.89355971e-001 4.72846564e-003 1.57461064e-001 1.58840789e-001\n",
            " 5.49987961e-001 2.66921298e-001 4.72449892e-001 5.01109615e-002\n",
            " 5.24679675e-002 1.55846974e-002 1.35981074e-001 7.68964491e-004\n",
            " 1.80381520e-002 4.62980367e-001 6.76075623e-002 4.88618016e-001\n",
            " 2.37878761e-002 3.01222902e-001 5.93859268e-001 3.67991382e-001\n",
            " 3.61140939e-001 2.43584278e-002 2.79615227e-001 1.32164047e-001\n",
            " 3.52191978e-002 4.82785436e-002 1.66182674e-003 1.37800887e-001\n",
            " 3.27096827e-001]\n",
            "\n",
            "\n",
            "Feature at index 22 is removed \n",
            "\n",
            "31 dimensions remaining now... \n",
            "\n",
            "====================================================================\n",
            "\n",
            "Probability values of each feature \n",
            "\n",
            "[8.23506678e-243 0.00000000e+000 0.00000000e+000 2.52513202e-062\n",
            " 3.88634498e-001 4.71995024e-003 1.57375645e-001 1.58938244e-001\n",
            " 5.50186479e-001 2.66467058e-001 4.72332732e-001 5.01227915e-002\n",
            " 5.23940053e-002 1.56104772e-002 1.36558104e-001 7.72268383e-004\n",
            " 1.80798111e-002 4.88021813e-001 6.26159440e-002 4.58435013e-001\n",
            " 1.95580928e-002 2.68451524e-001 4.01139441e-001 3.94466382e-001\n",
            " 2.76936078e-002 3.05734117e-001 1.10617988e-001 2.80022276e-002\n",
            " 3.89109065e-002 1.92424020e-003 1.18350447e-001 3.27005043e-001]\n",
            "\n",
            "\n",
            "Feature at index 8 is removed \n",
            "\n",
            "30 dimensions remaining now... \n",
            "\n",
            "====================================================================\n",
            "\n",
            "Probability values of each feature \n",
            "\n",
            "[1.02770094e-244 0.00000000e+000 0.00000000e+000 2.54419132e-062\n",
            " 3.46940069e-001 3.50947169e-003 1.34461101e-001 1.69850955e-001\n",
            " 2.82662478e-001 4.95329526e-001 4.92176332e-002 5.15831607e-002\n",
            " 1.55034702e-002 1.34021692e-001 7.48344158e-004 1.60045197e-002\n",
            " 4.87932131e-001 6.26137050e-002 4.58107308e-001 1.95022404e-002\n",
            " 2.67917902e-001 4.01289242e-001 3.94216033e-001 2.77161135e-002\n",
            " 3.05572459e-001 1.10448371e-001 2.80644437e-002 3.90270249e-002\n",
            " 1.92243336e-003 1.18707531e-001 3.26418648e-001]\n",
            "\n",
            "\n",
            "Feature at index 9 is removed \n",
            "\n",
            "29 dimensions remaining now... \n",
            "\n",
            "====================================================================\n",
            "\n",
            "Probability values of each feature \n",
            "\n",
            "[9.35630058e-245 0.00000000e+000 0.00000000e+000 2.52408704e-062\n",
            " 3.06879027e-001 2.56820137e-003 1.13697641e-001 1.82029038e-001\n",
            " 3.00791700e-001 5.28036146e-002 5.60232237e-002 1.69839931e-002\n",
            " 1.41244019e-001 8.28966293e-004 1.74781990e-002 4.85885570e-001\n",
            " 6.26329433e-002 4.57142280e-001 1.92907087e-002 2.67903185e-001\n",
            " 4.00493858e-001 3.94222956e-001 2.77760635e-002 3.05543054e-001\n",
            " 1.10067932e-001 2.80016588e-002 3.89307208e-002 1.93329911e-003\n",
            " 1.18422986e-001 3.25207930e-001]\n",
            "\n",
            "\n",
            "Feature at index 15 is removed \n",
            "\n",
            "28 dimensions remaining now... \n",
            "\n",
            "====================================================================\n",
            "\n",
            "Probability values of each feature \n",
            "\n",
            "[1.92666723e-246 0.00000000e+000 0.00000000e+000 2.73021293e-062\n",
            " 3.06010548e-001 2.53835762e-003 1.13344843e-001 1.81768200e-001\n",
            " 3.03028329e-001 5.19746776e-002 5.59111393e-002 1.66891203e-002\n",
            " 1.37770519e-001 7.55140807e-004 1.63286495e-002 5.88753265e-002\n",
            " 4.34885007e-001 1.69179526e-002 2.46946479e-001 4.27511644e-001\n",
            " 4.21267290e-001 3.10209301e-002 3.27181761e-001 9.73412027e-002\n",
            " 2.39606761e-002 3.35549356e-002 2.24275169e-003 1.05979783e-001\n",
            " 3.22102524e-001]\n",
            "\n",
            "\n",
            "Feature at index 16 is removed \n",
            "\n",
            "27 dimensions remaining now... \n",
            "\n",
            "====================================================================\n",
            "\n",
            "Probability values of each feature \n",
            "\n",
            "[5.98666771e-247 0.00000000e+000 0.00000000e+000 2.65217275e-062\n",
            " 3.03974406e-001 2.53611965e-003 1.13602406e-001 1.82231134e-001\n",
            " 3.04041943e-001 5.15011120e-002 5.61985047e-002 1.66962717e-002\n",
            " 1.36216763e-001 7.07600211e-004 1.55196954e-002 6.30723625e-002\n",
            " 1.93213544e-002 2.69095482e-001 3.93844849e-001 3.87320525e-001\n",
            " 2.64601583e-002 2.99886594e-001 1.09899036e-001 2.77390762e-002\n",
            " 3.86606170e-002 1.75123617e-003 1.18465958e-001 3.14438394e-001]\n",
            "\n",
            "\n",
            "Feature at index 18 is removed \n",
            "\n",
            "26 dimensions remaining now... \n",
            "\n",
            "====================================================================\n",
            "\n",
            "Probability values of each feature \n",
            "\n",
            "[6.49024369e-253 0.00000000e+000 0.00000000e+000 2.77857986e-062\n",
            " 3.02557888e-001 2.54217511e-003 1.13841095e-001 1.82387008e-001\n",
            " 3.03971371e-001 5.13419828e-002 5.61828578e-002 1.67173747e-002\n",
            " 1.37023120e-001 7.13273174e-004 1.55586246e-002 5.74046961e-002\n",
            " 1.52772002e-002 2.32238178e-001 4.35818820e-001 3.21244692e-002\n",
            " 3.38310546e-001 8.80011951e-002 2.10351007e-002 2.97528168e-002\n",
            " 2.24194678e-003 9.80236094e-002 3.13408778e-001]\n",
            "\n",
            "\n",
            "Feature at index 18 is removed \n",
            "\n",
            "25 dimensions remaining now... \n",
            "\n",
            "====================================================================\n",
            "\n",
            "Probability values of each feature \n",
            "\n",
            "[1.49559032e-258 0.00000000e+000 0.00000000e+000 2.94367795e-062\n",
            " 3.01797818e-001 2.55286291e-003 1.14205205e-001 1.82162404e-001\n",
            " 3.02799124e-001 5.15107389e-002 5.64444423e-002 1.68537058e-002\n",
            " 1.38037651e-001 7.30497184e-004 1.57807180e-002 5.29770025e-002\n",
            " 1.24503217e-002 2.03864461e-001 3.77364604e-002 3.73416237e-001\n",
            " 7.22348734e-002 1.64842791e-002 2.36138237e-002 2.75363981e-003\n",
            " 8.29523087e-002 3.11497627e-001]\n",
            "\n",
            "\n",
            "Feature at index 19 is removed \n",
            "\n",
            "24 dimensions remaining now... \n",
            "\n",
            "====================================================================\n",
            "\n",
            "Probability values of each feature \n",
            "\n",
            "[3.35307221e-263 0.00000000e+000 0.00000000e+000 3.01698951e-062\n",
            " 3.01642938e-001 2.57559624e-003 1.14673964e-001 1.82607706e-001\n",
            " 3.02351905e-001 5.19883962e-002 5.70948263e-002 1.72102754e-002\n",
            " 1.40149469e-001 7.46426976e-004 1.60049440e-002 4.89667967e-002\n",
            " 1.02181607e-002 1.79145782e-001 4.42476541e-002 5.94647696e-002\n",
            " 1.30031635e-002 1.88434375e-002 3.39497070e-003 7.03595030e-002\n",
            " 3.08699977e-001]\n",
            "\n",
            "\n",
            "Feature at index 24 is removed \n",
            "\n",
            "23 dimensions remaining now... \n",
            "\n",
            "====================================================================\n",
            "\n",
            "Probability values of each feature \n",
            "\n",
            "[0.00000000e+00 0.00000000e+00 0.00000000e+00 9.83793359e-67\n",
            " 3.00473917e-01 2.53498424e-03 1.14132710e-01 1.82416194e-01\n",
            " 3.02686270e-01 5.18253603e-02 5.76180112e-02 1.71706796e-02\n",
            " 1.38087162e-01 6.97065307e-04 1.53227950e-02 4.80340921e-02\n",
            " 9.60247284e-03 1.76427127e-01 4.36972112e-02 6.04251239e-02\n",
            " 1.33013368e-02 1.95437876e-02 3.20759372e-03 7.26238304e-02]\n",
            "\n",
            "\n",
            "Feature at index 8 is removed \n",
            "\n",
            "22 dimensions remaining now... \n",
            "\n",
            "====================================================================\n",
            "\n",
            "Probability values of each feature \n",
            "\n",
            "[0.00000000e+00 0.00000000e+00 0.00000000e+00 9.86615409e-67\n",
            " 2.48701780e-01 1.62899805e-03 8.88488364e-02 2.02395485e-01\n",
            " 5.07765761e-02 5.54040155e-02 1.64885947e-02 1.18669722e-01\n",
            " 6.40183985e-04 1.48770950e-02 4.81085812e-02 9.73583268e-03\n",
            " 1.76417981e-01 4.35138343e-02 6.09845078e-02 1.34737381e-02\n",
            " 1.98452420e-02 3.16921377e-03 7.33496066e-02]\n",
            "\n",
            "\n",
            "Feature at index 4 is removed \n",
            "\n",
            "21 dimensions remaining now... \n",
            "\n",
            "====================================================================\n",
            "\n",
            "Probability values of each feature \n",
            "\n",
            "[0.00000000e+00 0.00000000e+00 0.00000000e+00 9.46197057e-67\n",
            " 2.81744911e-03 1.29704023e-01 1.61658506e-01 5.47238127e-02\n",
            " 5.95889671e-02 1.79386293e-02 1.26752816e-01 6.42960851e-04\n",
            " 1.62914774e-02 4.78606785e-02 9.45953977e-03 1.75734758e-01\n",
            " 4.34542832e-02 6.08474502e-02 1.33450653e-02 1.97389320e-02\n",
            " 3.17841646e-03 7.31535616e-02]\n",
            "\n",
            "\n",
            "Feature at index 15 is removed \n",
            "\n",
            "20 dimensions remaining now... \n",
            "\n",
            "====================================================================\n",
            "\n",
            "Probability values of each feature \n",
            "\n",
            "[0.00000000e+00 0.00000000e+00 0.00000000e+00 1.03923843e-66\n",
            " 2.80944192e-03 1.29802977e-01 1.61450018e-01 5.46995261e-02\n",
            " 6.01055092e-02 1.80486300e-02 1.25750825e-01 6.30444557e-04\n",
            " 1.59917439e-02 5.31520112e-02 1.20670525e-02 3.33841740e-02\n",
            " 7.71686894e-02 1.76429472e-02 2.57842308e-02 2.17093710e-03\n",
            " 8.97122466e-02]\n",
            "\n",
            "\n",
            "Feature at index 6 is removed \n",
            "\n",
            "19 dimensions remaining now... \n",
            "\n",
            "====================================================================\n",
            "\n",
            "Probability values of each feature \n",
            "\n",
            "[0.00000000e+00 0.00000000e+00 0.00000000e+00 1.03642113e-66\n",
            " 1.78374158e-03 1.01895459e-01 5.46247626e-02 5.75023198e-02\n",
            " 1.36884160e-02 1.20657958e-01 5.69170599e-04 1.50685845e-02\n",
            " 5.34660681e-02 1.21460497e-02 3.34542038e-02 7.73223404e-02\n",
            " 1.78807874e-02 2.57627857e-02 2.19516935e-03 8.93028507e-02]\n",
            "\n",
            "\n",
            "Feature at index 9 is removed \n",
            "\n",
            "18 dimensions remaining now... \n",
            "\n",
            "====================================================================\n",
            "\n",
            "Probability values of each feature \n",
            "\n",
            "[0.00000000e+00 0.00000000e+00 0.00000000e+00 1.07246091e-66\n",
            " 1.81834676e-03 1.10478118e-01 1.90974484e-01 2.01135171e-01\n",
            " 5.22955094e-02 1.98347655e-03 5.70781226e-02 5.32595236e-02\n",
            " 1.17822199e-02 3.40374345e-02 7.61880587e-02 1.74352695e-02\n",
            " 2.50269199e-02 2.20970047e-03 9.11017758e-02]\n",
            "\n",
            "\n",
            "Feature at index 7 is removed \n",
            "\n",
            "17 dimensions remaining now... \n",
            "\n",
            "====================================================================\n",
            "\n",
            "Probability values of each feature \n",
            "\n",
            "[0.00000000e+00 0.00000000e+00 0.00000000e+00 1.07329121e-66\n",
            " 2.05507364e-03 1.07630600e-01 3.50910183e-01 1.09610361e-01\n",
            " 4.72902294e-03 1.17407577e-01 5.33386676e-02 1.22678184e-02\n",
            " 3.39405583e-02 7.72572518e-02 1.79414797e-02 2.58058319e-02\n",
            " 2.13340519e-03 9.14429701e-02]\n",
            "\n",
            "\n",
            "Feature at index 6 is removed \n",
            "\n",
            "16 dimensions remaining now... \n",
            "\n",
            "====================================================================\n",
            "\n",
            "Probability values of each feature \n",
            "\n",
            "[0.00000000e+00 0.00000000e+00 0.00000000e+00 1.05655499e-66\n",
            " 1.95410626e-03 1.11910542e-01 1.58113768e-01 7.46452941e-03\n",
            " 1.68262001e-01 5.29227182e-02 1.20658526e-02 3.40357594e-02\n",
            " 7.67024923e-02 1.78103011e-02 2.56360636e-02 2.15838624e-03\n",
            " 8.99895783e-02]\n",
            "\n",
            "\n",
            "Feature at index 8 is removed \n",
            "\n",
            "15 dimensions remaining now... \n",
            "\n",
            "====================================================================\n",
            "\n",
            "Probability values of each feature \n",
            "\n",
            "[0.00000000e+00 0.00000000e+00 0.00000000e+00 9.63934598e-67\n",
            " 1.95615192e-03 1.16475271e-01 2.46101072e-01 1.45392423e-02\n",
            " 5.16885862e-02 1.05154059e-02 3.43597569e-02 7.34867232e-02\n",
            " 1.67012218e-02 2.38745296e-02 2.34850329e-03 8.60956877e-02]\n",
            "\n",
            "\n",
            "Feature at index 6 is removed \n",
            "\n",
            "14 dimensions remaining now... \n",
            "\n",
            "====================================================================\n",
            "\n",
            "Probability values of each feature \n",
            "\n",
            "[0.00000000e+00 0.00000000e+00 0.00000000e+00 9.77954272e-67\n",
            " 2.12224321e-03 1.09333021e-01 2.28359035e-02 5.17883993e-02\n",
            " 1.07828242e-02 3.44283643e-02 7.41821743e-02 1.71330435e-02\n",
            " 2.45842695e-02 2.22867985e-03 9.03798736e-02]\n",
            "\n",
            "\n",
            "Feature at index 5 is removed \n",
            "\n",
            "13 dimensions remaining now... \n",
            "\n",
            "====================================================================\n",
            "\n",
            "Probability values of each feature \n",
            "\n",
            "[0.00000000e+00 0.00000000e+00 0.00000000e+00 1.04583162e-66\n",
            " 4.23296811e-03 2.57473739e-02 5.21831511e-02 1.07346120e-02\n",
            " 3.49377911e-02 7.39148876e-02 1.68096471e-02 2.46380545e-02\n",
            " 2.20264699e-03 9.09920398e-02]\n",
            "\n",
            "\n",
            "Feature at index 13 is removed \n",
            "\n",
            "12 dimensions remaining now... \n",
            "\n",
            "====================================================================\n",
            "\n",
            "Probability values of each feature \n",
            "\n",
            "[0.00000000e+00 0.00000000e+00 0.00000000e+00 1.08309007e-66\n",
            " 4.26274334e-03 2.66874669e-02 6.00941258e-02 1.44217797e-02\n",
            " 2.53966525e-02 9.75118139e-02 2.35159844e-02 3.40176470e-02\n",
            " 1.36370829e-03]\n",
            "\n",
            "\n",
            "Feature at index 9 is removed \n",
            "\n",
            "11 dimensions remaining now... \n",
            "\n",
            "====================================================================\n",
            "\n",
            "Probability values of each feature \n",
            "\n",
            "[0.00000000e+00 0.00000000e+00 0.00000000e+00 1.18838086e-66\n",
            " 4.20313610e-03 2.58661838e-02 6.82510693e-02 1.92905832e-02\n",
            " 1.78802936e-02 3.26311683e-02 4.64786054e-02 8.22862135e-04]\n",
            "\n",
            "\n",
            "Feature at index 6 is removed \n",
            "\n",
            "10 dimensions remaining now... \n",
            "\n",
            "====================================================================\n",
            "\n",
            "Probability values of each feature \n",
            "\n",
            "[0.00000000e+00 0.00000000e+00 0.00000000e+00 9.03935212e-67\n",
            " 4.24601719e-03 2.53908788e-02 2.20110239e-02 1.55636576e-02\n",
            " 3.77629062e-02 5.35353592e-02 6.55963903e-04]\n",
            "\n",
            "\n",
            "Feature at index 9 is removed \n",
            "\n",
            "9 dimensions remaining now... \n",
            "\n",
            "====================================================================\n",
            "\n",
            "Probability values of each feature \n",
            "\n",
            "[0.00000000e+00 0.00000000e+00 0.00000000e+00 9.79142375e-67\n",
            " 4.19703648e-03 2.42780008e-02 2.94097600e-02 1.07116129e-02\n",
            " 5.20939702e-02 3.79649691e-04]\n",
            "\n",
            "\n",
            "Feature at index 8 is removed \n",
            "\n",
            "8 dimensions remaining now... \n",
            "\n",
            "====================================================================\n",
            "\n",
            "Final stat summary with optimal 8 features\n"
          ]
        },
        {
          "output_type": "execute_result",
          "data": {
            "text/plain": [
              "<class 'statsmodels.iolib.summary.Summary'>\n",
              "\"\"\"\n",
              "                            OLS Regression Results                            \n",
              "==============================================================================\n",
              "Dep. Variable:                      y   R-squared:                       0.014\n",
              "Model:                            OLS   Adj. R-squared:                  0.014\n",
              "Method:                 Least Squares   F-statistic:                     1861.\n",
              "Date:                Wed, 24 Aug 2022   Prob (F-statistic):               0.00\n",
              "Time:                        13:47:32   Log-Likelihood:            -1.0577e+07\n",
              "No. Observations:             1048575   AIC:                         2.115e+07\n",
              "Df Residuals:                 1048566   BIC:                         2.115e+07\n",
              "Df Model:                           8                                         \n",
              "Covariance Type:            nonrobust                                         \n",
              "==============================================================================\n",
              "                 coef    std err          t      P>|t|      [0.025      0.975]\n",
              "------------------------------------------------------------------------------\n",
              "const        780.1014     10.981     71.042      0.000     758.579     801.623\n",
              "x1           188.7865      1.588    118.853      0.000     185.673     191.900\n",
              "x2           -40.9412      0.489    -83.708      0.000     -41.900     -39.983\n",
              "x3           196.3542     11.379     17.255      0.000     174.051     218.657\n",
              "x4            47.3228     16.521      2.864      0.004      14.943      79.702\n",
              "x5            35.9303     15.807      2.273      0.023       4.949      66.911\n",
              "x6           -61.6017     29.722     -2.073      0.038    -119.855      -3.348\n",
              "x7            70.5066     26.341      2.677      0.007      18.878     122.135\n",
              "x8            92.2120     24.989      3.690      0.000      43.235     141.189\n",
              "================================================================================\n",
              "Omnibus:                  5971683.509   Durbin-Watson:                     2.000\n",
              "Prob(Omnibus):                  0.000   Jarque-Bera (JB):   1346703222123011.500\n",
              "Skew:                         346.724   Prob(JB):                           0.00\n",
              "Kurtosis:                  175568.199   Cond. No.                           110.\n",
              "================================================================================\n",
              "\n",
              "Notes:\n",
              "[1] Standard Errors assume that the covariance matrix of the errors is correctly specified.\n",
              "\"\"\""
            ],
            "text/html": [
              "<table class=\"simpletable\">\n",
              "<caption>OLS Regression Results</caption>\n",
              "<tr>\n",
              "  <th>Dep. Variable:</th>            <td>y</td>        <th>  R-squared:         </th>  <td>   0.014</td>  \n",
              "</tr>\n",
              "<tr>\n",
              "  <th>Model:</th>                   <td>OLS</td>       <th>  Adj. R-squared:    </th>  <td>   0.014</td>  \n",
              "</tr>\n",
              "<tr>\n",
              "  <th>Method:</th>             <td>Least Squares</td>  <th>  F-statistic:       </th>  <td>   1861.</td>  \n",
              "</tr>\n",
              "<tr>\n",
              "  <th>Date:</th>             <td>Wed, 24 Aug 2022</td> <th>  Prob (F-statistic):</th>   <td>  0.00</td>   \n",
              "</tr>\n",
              "<tr>\n",
              "  <th>Time:</th>                 <td>13:47:32</td>     <th>  Log-Likelihood:    </th> <td>-1.0577e+07</td>\n",
              "</tr>\n",
              "<tr>\n",
              "  <th>No. Observations:</th>      <td>1048575</td>     <th>  AIC:               </th>  <td>2.115e+07</td> \n",
              "</tr>\n",
              "<tr>\n",
              "  <th>Df Residuals:</th>          <td>1048566</td>     <th>  BIC:               </th>  <td>2.115e+07</td> \n",
              "</tr>\n",
              "<tr>\n",
              "  <th>Df Model:</th>              <td>     8</td>      <th>                     </th>      <td> </td>     \n",
              "</tr>\n",
              "<tr>\n",
              "  <th>Covariance Type:</th>      <td>nonrobust</td>    <th>                     </th>      <td> </td>     \n",
              "</tr>\n",
              "</table>\n",
              "<table class=\"simpletable\">\n",
              "<tr>\n",
              "    <td></td>       <th>coef</th>     <th>std err</th>      <th>t</th>      <th>P>|t|</th>  <th>[0.025</th>    <th>0.975]</th>  \n",
              "</tr>\n",
              "<tr>\n",
              "  <th>const</th> <td>  780.1014</td> <td>   10.981</td> <td>   71.042</td> <td> 0.000</td> <td>  758.579</td> <td>  801.623</td>\n",
              "</tr>\n",
              "<tr>\n",
              "  <th>x1</th>    <td>  188.7865</td> <td>    1.588</td> <td>  118.853</td> <td> 0.000</td> <td>  185.673</td> <td>  191.900</td>\n",
              "</tr>\n",
              "<tr>\n",
              "  <th>x2</th>    <td>  -40.9412</td> <td>    0.489</td> <td>  -83.708</td> <td> 0.000</td> <td>  -41.900</td> <td>  -39.983</td>\n",
              "</tr>\n",
              "<tr>\n",
              "  <th>x3</th>    <td>  196.3542</td> <td>   11.379</td> <td>   17.255</td> <td> 0.000</td> <td>  174.051</td> <td>  218.657</td>\n",
              "</tr>\n",
              "<tr>\n",
              "  <th>x4</th>    <td>   47.3228</td> <td>   16.521</td> <td>    2.864</td> <td> 0.004</td> <td>   14.943</td> <td>   79.702</td>\n",
              "</tr>\n",
              "<tr>\n",
              "  <th>x5</th>    <td>   35.9303</td> <td>   15.807</td> <td>    2.273</td> <td> 0.023</td> <td>    4.949</td> <td>   66.911</td>\n",
              "</tr>\n",
              "<tr>\n",
              "  <th>x6</th>    <td>  -61.6017</td> <td>   29.722</td> <td>   -2.073</td> <td> 0.038</td> <td> -119.855</td> <td>   -3.348</td>\n",
              "</tr>\n",
              "<tr>\n",
              "  <th>x7</th>    <td>   70.5066</td> <td>   26.341</td> <td>    2.677</td> <td> 0.007</td> <td>   18.878</td> <td>  122.135</td>\n",
              "</tr>\n",
              "<tr>\n",
              "  <th>x8</th>    <td>   92.2120</td> <td>   24.989</td> <td>    3.690</td> <td> 0.000</td> <td>   43.235</td> <td>  141.189</td>\n",
              "</tr>\n",
              "</table>\n",
              "<table class=\"simpletable\">\n",
              "<tr>\n",
              "  <th>Omnibus:</th>       <td>5971683.509</td> <th>  Durbin-Watson:     </th>       <td>   2.000</td>      \n",
              "</tr>\n",
              "<tr>\n",
              "  <th>Prob(Omnibus):</th>   <td> 0.000</td>    <th>  Jarque-Bera (JB):  </th> <td>1346703222123011.500</td>\n",
              "</tr>\n",
              "<tr>\n",
              "  <th>Skew:</th>            <td>346.724</td>   <th>  Prob(JB):          </th>       <td>    0.00</td>      \n",
              "</tr>\n",
              "<tr>\n",
              "  <th>Kurtosis:</th>      <td>175568.199</td>  <th>  Cond. No.          </th>       <td>    110.</td>      \n",
              "</tr>\n",
              "</table><br/><br/>Notes:<br/>[1] Standard Errors assume that the covariance matrix of the errors is correctly specified."
            ]
          },
          "metadata": {},
          "execution_count": 41
        }
      ],
      "source": [
        "#Select all the features in X array\n",
        "X_opt = X1[:,range(0,46)]\n",
        "regressor_OLS = sm.OLS(endog = Y, exog = X_opt).fit()\n",
        "\n",
        "#Fetch p values for each feature\n",
        "p_Vals = regressor_OLS.pvalues\n",
        "\n",
        "#define significance level for accepting the feature.\n",
        "sig_Level = 0.05\n",
        "\n",
        "#Loop to iterate over features and remove the feature with p value less than the sig_level\n",
        "while max(p_Vals) > sig_Level:\n",
        "    print(\"Probability values of each feature \\n\")\n",
        "    print(p_Vals)\n",
        "    X_opt = np.delete(X_opt, np.argmax(p_Vals), axis = 1)\n",
        "    print(\"\\n\")\n",
        "    print(\"Feature at index {} is removed \\n\".format(str(np.argmax(p_Vals))))\n",
        "    print(str(X_opt.shape[1]-1) + \" dimensions remaining now... \\n\")\n",
        "    regressor_OLS = sm.OLS(endog = Y, exog = X_opt).fit()\n",
        "    p_Vals = regressor_OLS.pvalues\n",
        "    print(\"====================================================================\\n\")\n",
        "#Print final summary\n",
        "print(\"Final stat summary with optimal {} features\".format(str(X_opt.shape[1]-1)))\n",
        "regressor_OLS.summary()    "
      ]
    },
    {
      "cell_type": "markdown",
      "metadata": {
        "id": "7mbbfbpQlgsV"
      },
      "source": [
        "### **Split Data**"
      ]
    },
    {
      "cell_type": "code",
      "execution_count": 42,
      "metadata": {
        "id": "EOTyC2jblmMD"
      },
      "outputs": [],
      "source": [
        "#Split raw data\n",
        "X_train, X_test, y_train, y_test = train_test_split(X,Y, random_state=4, test_size=0.2)\n",
        "\n",
        "#Split data from the feature selection group\n",
        "X_train_fs, X_test_fs, y_train_fs, y_test_fs = train_test_split(X_opt,Y, random_state=4, test_size=0.2)"
      ]
    },
    {
      "cell_type": "markdown",
      "metadata": {
        "id": "NiqCOzDPmQvx"
      },
      "source": [
        "### **Feature Extraction**"
      ]
    },
    {
      "cell_type": "code",
      "execution_count": 43,
      "metadata": {
        "id": "SKE3uI0kmYrG"
      },
      "outputs": [],
      "source": [
        "#Split raw data\n",
        "X_train, X_test, y_train, y_test = train_test_split(X,Y, random_state=4, test_size=0.2)\n",
        "\n",
        "#Split data from the feature selection group\n",
        "X_train_fs, X_test_fs, y_train_fs, y_test_fs = train_test_split(X_opt,Y, random_state=4, test_size=0.2)"
      ]
    },
    {
      "cell_type": "code",
      "execution_count": 44,
      "metadata": {
        "id": "Ln9aM0bwm14J"
      },
      "outputs": [],
      "source": [
        "X_train_pca, X_test_pca, y_train_pca, y_test_pca = train_test_split(X,Y, random_state=4, test_size=0.2)"
      ]
    },
    {
      "cell_type": "code",
      "execution_count": 45,
      "metadata": {
        "id": "V1xtvdgBnFe8"
      },
      "outputs": [],
      "source": [
        "from sklearn.preprocessing import StandardScaler\n",
        "scaler = StandardScaler()\n",
        "X_train_pca = scaler.fit_transform(X_train_pca)\n",
        "X_test_pca = scaler.transform(X_test_pca)"
      ]
    },
    {
      "cell_type": "code",
      "execution_count": 46,
      "metadata": {
        "colab": {
          "base_uri": "https://localhost:8080/",
          "height": 0
        },
        "id": "c-sa945tnHM3",
        "outputId": "d76099db-4924-4f05-893c-8d0a2ac620e3"
      },
      "outputs": [
        {
          "output_type": "display_data",
          "data": {
            "text/plain": [
              "<Figure size 432x288 with 1 Axes>"
            ],
            "image/png": "[encoded data removed]"
          },
          "metadata": {}
        }
      ],
      "source": [
        "from sklearn.decomposition import PCA\n",
        "pca = PCA().fit(X_train_pca)\n",
        "plt.plot(np.cumsum(pca.explained_variance_ratio_))\n",
        "plt.xlabel(\"number of components\")\n",
        "plt.ylabel(\"Cumulative explained variance\")\n",
        "plt.show()"
      ]
    },
    {
      "cell_type": "code",
      "execution_count": 47,
      "metadata": {
        "colab": {
          "base_uri": "https://localhost:8080/"
        },
        "id": "fxqz-4bcnLwY",
        "outputId": "a7a22e91-b8c6-481a-c540-05b5a9de90d6"
      },
      "outputs": [
        {
          "output_type": "execute_result",
          "data": {
            "text/plain": [
              "[(1, 3.71),\n",
              " (2, 7.300000000000001),\n",
              " (3, 10.100000000000001),\n",
              " (4, 12.830000000000002),\n",
              " (5, 15.530000000000001),\n",
              " (6, 18.200000000000003),\n",
              " (7, 20.800000000000004),\n",
              " (8, 23.310000000000006),\n",
              " (9, 25.790000000000006),\n",
              " (10, 28.230000000000008),\n",
              " (11, 30.620000000000008),\n",
              " (12, 32.970000000000006),\n",
              " (13, 35.290000000000006),\n",
              " (14, 37.60000000000001),\n",
              " (15, 39.91000000000001),\n",
              " (16, 42.21000000000001),\n",
              " (17, 44.510000000000005),\n",
              " (18, 46.800000000000004),\n",
              " (19, 49.09),\n",
              " (20, 51.38),\n",
              " (21, 53.67),\n",
              " (22, 55.95),\n",
              " (23, 58.230000000000004),\n",
              " (24, 60.510000000000005),\n",
              " (25, 62.790000000000006),\n",
              " (26, 65.07000000000001),\n",
              " (27, 67.34),\n",
              " (28, 69.60000000000001),\n",
              " (29, 71.85000000000001),\n",
              " (30, 74.09),\n",
              " (31, 76.32000000000001),\n",
              " (32, 78.54),\n",
              " (33, 80.75),\n",
              " (34, 82.96),\n",
              " (35, 85.16),\n",
              " (36, 87.33),\n",
              " (37, 89.47),\n",
              " (38, 91.6),\n",
              " (39, 93.72),\n",
              " (40, 95.72),\n",
              " (41, 97.69),\n",
              " (42, 98.53999999999999),\n",
              " (43, 99.25999999999999),\n",
              " (44, 99.6),\n",
              " (45, 99.91)]"
            ]
          },
          "metadata": {},
          "execution_count": 47
        }
      ],
      "source": [
        "arr = np.cumsum(np.round(pca.explained_variance_ratio_, decimals=4)*100)\n",
        "list(zip(range(1,len(arr)), arr))"
      ]
    },
    {
      "cell_type": "code",
      "execution_count": 48,
      "metadata": {
        "id": "Vv4kCLyXnQL5"
      },
      "outputs": [],
      "source": [
        "pca_10 = PCA(n_components=40)\n",
        "X_train_pca = pca_10.fit_transform(X_train_pca)\n",
        "X_test_pca = pca_10.transform(X_test_pca)"
      ]
    },
    {
      "cell_type": "markdown",
      "metadata": {
        "id": "6_bgry84nUzh"
      },
      "source": [
        "## **Heatmap**"
      ]
    },
    {
      "cell_type": "markdown",
      "metadata": {
        "id": "FnMhzVyWngED"
      },
      "source": [
        "### **On feature selection Data**"
      ]
    },
    {
      "cell_type": "code",
      "execution_count": 49,
      "metadata": {
        "colab": {
          "base_uri": "https://localhost:8080/",
          "height": 0
        },
        "id": "Djp46Xk6nY0C",
        "outputId": "859ff712-7fff-4c1f-b61b-5710c16286cf"
      },
      "outputs": [
        {
          "output_type": "display_data",
          "data": {
            "text/plain": [
              "<Figure size 1080x1080 with 2 Axes>"
            ],
            "image/png": "[encoded data removed]"
          },
          "metadata": {}
        }
      ],
      "source": [
        "plt.figure(figsize=(15,15))\n",
        "corr = pd.DataFrame(X_train_fs[:,1:]).corr()\n",
        "corr.index = pd.DataFrame(X_train_fs[:,1:]).columns\n",
        "sns.heatmap(corr, cmap='RdYlGn', vmin=-1, vmax=1, square=True)\n",
        "plt.title(\"Correlation Heatmap\", fontsize=16)\n",
        "plt.show()"
      ]
    },
    {
      "cell_type": "markdown",
      "metadata": {
        "id": "XSySCblPmqZx"
      },
      "source": [
        "### **Observations**\n",
        "\n",
        "Finally we have reached the combination of optimum features with each feature having p value < 0.05."
      ]
    },
    {
      "cell_type": "markdown",
      "metadata": {
        "id": "tXnp5TegnpHN"
      },
      "source": [
        "### **On feature extraction Data**"
      ]
    },
    {
      "cell_type": "code",
      "execution_count": 50,
      "metadata": {
        "colab": {
          "base_uri": "https://localhost:8080/",
          "height": 0
        },
        "id": "GVBYK6QBntpq",
        "outputId": "52948a76-5679-418a-e212-42f16f72f880"
      },
      "outputs": [
        {
          "output_type": "display_data",
          "data": {
            "text/plain": [
              "<Figure size 1080x1080 with 2 Axes>"
            ],
            "image/png": "[encoded data removed]"
          },
          "metadata": {}
        }
      ],
      "source": [
        "plt.figure(figsize=(15,15))\n",
        "corr = pd.DataFrame(X_train_pca).corr()\n",
        "corr.index = pd.DataFrame(X_train_pca).columns\n",
        "sns.heatmap(corr, cmap='RdYlGn', vmin=-1, vmax=1, square=True)\n",
        "plt.title(\"Correlation Heatmap\", fontsize=16)\n",
        "plt.show()"
      ]
    },
    {
      "cell_type": "markdown",
      "metadata": {
        "id": "5aoVTHgEoAd1"
      },
      "source": [
        "### **Observations**\n",
        "\n",
        "All of the features shows NO correlation at all. Because feature extraction removes all collinearity."
      ]
    },
    {
      "cell_type": "markdown",
      "metadata": {
        "id": "wIesrxFloF6v"
      },
      "source": [
        "# **Linear Regression**"
      ]
    },
    {
      "cell_type": "code",
      "execution_count": 51,
      "metadata": {
        "id": "EyoqZtbqoK7i"
      },
      "outputs": [],
      "source": [
        "from sklearn.model_selection import train_test_split\n",
        "from sklearn.linear_model import LinearRegression\n",
        "from sklearn.ensemble import GradientBoostingRegressor\n",
        "from sklearn.metrics import r2_score, mean_squared_error\n",
        "from sklearn.metrics import mean_absolute_error\n",
        "from sklearn import metrics"
      ]
    },
    {
      "cell_type": "code",
      "execution_count": 52,
      "metadata": {
        "colab": {
          "base_uri": "https://localhost:8080/"
        },
        "id": "Q77lfEQZokVa",
        "outputId": "0f9fc201-c51c-4e8a-bd9a-aac704de2c19"
      },
      "outputs": [
        {
          "output_type": "execute_result",
          "data": {
            "text/plain": [
              "LinearRegression()"
            ]
          },
          "metadata": {},
          "execution_count": 52
        }
      ],
      "source": [
        "#Linear regressor for the raw data\n",
        "regressor = LinearRegression() \n",
        "regressor.fit(X_train,y_train) \n",
        "\n",
        "#Linear regressor for the Feature selection group\n",
        "regressor1 = LinearRegression() \n",
        "regressor1.fit(X_train_fs,y_train_fs) \n",
        "\n",
        "#Linear regressor for the Feature extraction group\n",
        "regressor2 = LinearRegression() \n",
        "regressor2.fit(X_train_pca,y_train_pca) "
      ]
    },
    {
      "cell_type": "code",
      "execution_count": 53,
      "metadata": {
        "id": "6yeFOY28or80"
      },
      "outputs": [],
      "source": [
        "#Predict from the test features of raw data\n",
        "y_pred = regressor.predict(X_test) \n",
        "\n",
        "#Predict from the test features of Feature Selection group\n",
        "y_pred = regressor1.predict(X_test_fs) \n",
        "\n",
        "#Predict from the test features of Feature Extraction group\n",
        "y_pred_pca = regressor2.predict(X_test_pca) "
      ]
    },
    {
      "cell_type": "code",
      "execution_count": 54,
      "metadata": {
        "colab": {
          "base_uri": "https://localhost:8080/"
        },
        "id": "inYafwR-otGr",
        "outputId": "1d7cef98-ef6f-4a69-db7a-d29d1e0160bc"
      },
      "outputs": [
        {
          "output_type": "stream",
          "name": "stdout",
          "text": [
            "RMSE score for the Multiple LR raw is : 8321.482043675796\n",
            "Variance score for the Multiple LR raw is : 0.01\n",
            "\n",
            "\n",
            "RMSE score for the Multiple LR FS is : 8321.482043675796\n",
            "Variance score for the Multiple LR FS is : 0.01\n",
            "\n",
            "\n",
            "RMSE score for the Multiple LR PCA is : 8342.934791209373\n",
            "Variance score for the Multiple LR PCA is : 0.00\n"
          ]
        }
      ],
      "source": [
        "#Evaluate the regressor on the raw data\n",
        "print('RMSE score for the Multiple LR raw is : {}'.format(np.sqrt(metrics.mean_squared_error(y_test,y_pred))))\n",
        "print('Variance score for the Multiple LR raw is : %.2f' % regressor.score(X_test, y_test))\n",
        "print(\"\\n\")\n",
        "\n",
        "#Evaluate the regressor on the Feature selection group\n",
        "print('RMSE score for the Multiple LR FS is : {}'.format(np.sqrt(metrics.mean_squared_error(y_test_fs,y_pred))))\n",
        "print('Variance score for the Multiple LR FS is : %.2f' % regressor1.score(X_test_fs, y_test_fs))\n",
        "print(\"\\n\")\n",
        "\n",
        "#Evaluate the regressor on the Feature extraction group\n",
        "print('RMSE score for the Multiple LR PCA is : {}'.format(np.sqrt(metrics.mean_squared_error(y_test_pca,y_pred_pca))))\n",
        "print('Variance score for the Multiple LR PCA is : %.2f' % regressor2.score(X_test_pca, y_test_pca))"
      ]
    },
    {
      "cell_type": "code",
      "execution_count": 55,
      "metadata": {
        "colab": {
          "base_uri": "https://localhost:8080/"
        },
        "id": "VLN2NaTApd0b",
        "outputId": "77757f1b-ab2e-439e-b4b0-19138b7afe13"
      },
      "outputs": [
        {
          "output_type": "execute_result",
          "data": {
            "text/plain": [
              "(838860, 46)"
            ]
          },
          "metadata": {},
          "execution_count": 55
        }
      ],
      "source": [
        "X_train.shape"
      ]
    },
    {
      "cell_type": "code",
      "execution_count": 56,
      "metadata": {
        "colab": {
          "base_uri": "https://localhost:8080/",
          "height": 1000
        },
        "id": "ntYhcaLVpf6j",
        "outputId": "f68d4d2b-62a9-451f-9a16-580775c5c564"
      },
      "outputs": [
        {
          "output_type": "execute_result",
          "data": {
            "text/plain": [
              "             Value\n",
              "0 vs 46   0.095723\n",
              "1 vs 46  -0.021774\n",
              "3 vs 46   0.020817\n",
              "44 vs 46 -0.009309\n",
              "35 vs 46  0.006761\n",
              "27 vs 46 -0.005487\n",
              "36 vs 46  0.005104\n",
              "7 vs 46   0.005057\n",
              "34 vs 46  0.004934\n",
              "40 vs 46 -0.004500\n",
              "45 vs 46  0.004435\n",
              "26 vs 46 -0.003866\n",
              "25 vs 46 -0.003816\n",
              "37 vs 46  0.003216\n",
              "33 vs 46  0.002999\n",
              "39 vs 46 -0.002958\n",
              "17 vs 46  0.002876\n",
              "4 vs 46  -0.002798\n",
              "8 vs 46   0.002788\n",
              "41 vs 46 -0.002637\n",
              "9 vs 46  -0.002528\n",
              "32 vs 46  0.002093\n",
              "42 vs 46  0.001933\n",
              "23 vs 46 -0.001913\n",
              "2 vs 46   0.001809\n",
              "30 vs 46 -0.001741\n",
              "22 vs 46 -0.001649\n",
              "16 vs 46  0.001637\n",
              "21 vs 46 -0.001577\n",
              "10 vs 46 -0.001539\n",
              "12 vs 46 -0.001213\n",
              "28 vs 46 -0.001203\n",
              "11 vs 46 -0.001181\n",
              "19 vs 46 -0.001131\n",
              "43 vs 46 -0.001085\n",
              "14 vs 46 -0.001054\n",
              "24 vs 46 -0.001002\n",
              "31 vs 46  0.000734\n",
              "20 vs 46 -0.000733\n",
              "38 vs 46  0.000695\n",
              "29 vs 46 -0.000673\n",
              "13 vs 46 -0.000416\n",
              "5 vs 46  -0.000413\n",
              "18 vs 46 -0.000409\n",
              "15 vs 46  0.000365\n",
              "6 vs 46   0.000311"
            ],
            "text/html": [
              "\n",
              "  <div id=\"df-6b0c216e-35da-4818-8b84-eb58afa3f410\">\n",
              "    <div class=\"colab-df-container\">\n",
              "      <div>\n",
              "<style scoped>\n",
              "    .dataframe tbody tr th:only-of-type {\n",
              "        vertical-align: middle;\n",
              "    }\n",
              "\n",
              "    .dataframe tbody tr th {\n",
              "        vertical-align: top;\n",
              "    }\n",
              "\n",
              "    .dataframe thead th {\n",
              "        text-align: right;\n",
              "    }\n",
              "</style>\n",
              "<table border=\"1\" class=\"dataframe\">\n",
              "  <thead>\n",
              "    <tr style=\"text-align: right;\">\n",
              "      <th></th>\n",
              "      <th>Value</th>\n",
              "    </tr>\n",
              "  </thead>\n",
              "  <tbody>\n",
              "    <tr>\n",
              "      <th>0 vs 46</th>\n",
              "      <td>0.095723</td>\n",
              "    </tr>\n",
              "    <tr>\n",
              "      <th>1 vs 46</th>\n",
              "      <td>-0.021774</td>\n",
              "    </tr>\n",
              "    <tr>\n",
              "      <th>3 vs 46</th>\n",
              "      <td>0.020817</td>\n",
              "    </tr>\n",
              "    <tr>\n",
              "      <th>44 vs 46</th>\n",
              "      <td>-0.009309</td>\n",
              "    </tr>\n",
              "    <tr>\n",
              "      <th>35 vs 46</th>\n",
              "      <td>0.006761</td>\n",
              "    </tr>\n",
              "    <tr>\n",
              "      <th>27 vs 46</th>\n",
              "      <td>-0.005487</td>\n",
              "    </tr>\n",
              "    <tr>\n",
              "      <th>36 vs 46</th>\n",
              "      <td>0.005104</td>\n",
              "    </tr>\n",
              "    <tr>\n",
              "      <th>7 vs 46</th>\n",
              "      <td>0.005057</td>\n",
              "    </tr>\n",
              "    <tr>\n",
              "      <th>34 vs 46</th>\n",
              "      <td>0.004934</td>\n",
              "    </tr>\n",
              "    <tr>\n",
              "      <th>40 vs 46</th>\n",
              "      <td>-0.004500</td>\n",
              "    </tr>\n",
              "    <tr>\n",
              "      <th>45 vs 46</th>\n",
              "      <td>0.004435</td>\n",
              "    </tr>\n",
              "    <tr>\n",
              "      <th>26 vs 46</th>\n",
              "      <td>-0.003866</td>\n",
              "    </tr>\n",
              "    <tr>\n",
              "      <th>25 vs 46</th>\n",
              "      <td>-0.003816</td>\n",
              "    </tr>\n",
              "    <tr>\n",
              "      <th>37 vs 46</th>\n",
              "      <td>0.003216</td>\n",
              "    </tr>\n",
              "    <tr>\n",
              "      <th>33 vs 46</th>\n",
              "      <td>0.002999</td>\n",
              "    </tr>\n",
              "    <tr>\n",
              "      <th>39 vs 46</th>\n",
              "      <td>-0.002958</td>\n",
              "    </tr>\n",
              "    <tr>\n",
              "      <th>17 vs 46</th>\n",
              "      <td>0.002876</td>\n",
              "    </tr>\n",
              "    <tr>\n",
              "      <th>4 vs 46</th>\n",
              "      <td>-0.002798</td>\n",
              "    </tr>\n",
              "    <tr>\n",
              "      <th>8 vs 46</th>\n",
              "      <td>0.002788</td>\n",
              "    </tr>\n",
              "    <tr>\n",
              "      <th>41 vs 46</th>\n",
              "      <td>-0.002637</td>\n",
              "    </tr>\n",
              "    <tr>\n",
              "      <th>9 vs 46</th>\n",
              "      <td>-0.002528</td>\n",
              "    </tr>\n",
              "    <tr>\n",
              "      <th>32 vs 46</th>\n",
              "      <td>0.002093</td>\n",
              "    </tr>\n",
              "    <tr>\n",
              "      <th>42 vs 46</th>\n",
              "      <td>0.001933</td>\n",
              "    </tr>\n",
              "    <tr>\n",
              "      <th>23 vs 46</th>\n",
              "      <td>-0.001913</td>\n",
              "    </tr>\n",
              "    <tr>\n",
              "      <th>2 vs 46</th>\n",
              "      <td>0.001809</td>\n",
              "    </tr>\n",
              "    <tr>\n",
              "      <th>30 vs 46</th>\n",
              "      <td>-0.001741</td>\n",
              "    </tr>\n",
              "    <tr>\n",
              "      <th>22 vs 46</th>\n",
              "      <td>-0.001649</td>\n",
              "    </tr>\n",
              "    <tr>\n",
              "      <th>16 vs 46</th>\n",
              "      <td>0.001637</td>\n",
              "    </tr>\n",
              "    <tr>\n",
              "      <th>21 vs 46</th>\n",
              "      <td>-0.001577</td>\n",
              "    </tr>\n",
              "    <tr>\n",
              "      <th>10 vs 46</th>\n",
              "      <td>-0.001539</td>\n",
              "    </tr>\n",
              "    <tr>\n",
              "      <th>12 vs 46</th>\n",
              "      <td>-0.001213</td>\n",
              "    </tr>\n",
              "    <tr>\n",
              "      <th>28 vs 46</th>\n",
              "      <td>-0.001203</td>\n",
              "    </tr>\n",
              "    <tr>\n",
              "      <th>11 vs 46</th>\n",
              "      <td>-0.001181</td>\n",
              "    </tr>\n",
              "    <tr>\n",
              "      <th>19 vs 46</th>\n",
              "      <td>-0.001131</td>\n",
              "    </tr>\n",
              "    <tr>\n",
              "      <th>43 vs 46</th>\n",
              "      <td>-0.001085</td>\n",
              "    </tr>\n",
              "    <tr>\n",
              "      <th>14 vs 46</th>\n",
              "      <td>-0.001054</td>\n",
              "    </tr>\n",
              "    <tr>\n",
              "      <th>24 vs 46</th>\n",
              "      <td>-0.001002</td>\n",
              "    </tr>\n",
              "    <tr>\n",
              "      <th>31 vs 46</th>\n",
              "      <td>0.000734</td>\n",
              "    </tr>\n",
              "    <tr>\n",
              "      <th>20 vs 46</th>\n",
              "      <td>-0.000733</td>\n",
              "    </tr>\n",
              "    <tr>\n",
              "      <th>38 vs 46</th>\n",
              "      <td>0.000695</td>\n",
              "    </tr>\n",
              "    <tr>\n",
              "      <th>29 vs 46</th>\n",
              "      <td>-0.000673</td>\n",
              "    </tr>\n",
              "    <tr>\n",
              "      <th>13 vs 46</th>\n",
              "      <td>-0.000416</td>\n",
              "    </tr>\n",
              "    <tr>\n",
              "      <th>5 vs 46</th>\n",
              "      <td>-0.000413</td>\n",
              "    </tr>\n",
              "    <tr>\n",
              "      <th>18 vs 46</th>\n",
              "      <td>-0.000409</td>\n",
              "    </tr>\n",
              "    <tr>\n",
              "      <th>15 vs 46</th>\n",
              "      <td>0.000365</td>\n",
              "    </tr>\n",
              "    <tr>\n",
              "      <th>6 vs 46</th>\n",
              "      <td>0.000311</td>\n",
              "    </tr>\n",
              "  </tbody>\n",
              "</table>\n",
              "</div>\n",
              "      <button class=\"colab-df-convert\" onclick=\"convertToInteractive('df-6b0c216e-35da-4818-8b84-eb58afa3f410')\"\n",
              "              title=\"Convert this dataframe to an interactive table.\"\n",
              "              style=\"display:none;\">\n",
              "        \n",
              "  <svg xmlns=\"http://www.w3.org/2000/svg\" height=\"24px\"viewBox=\"0 0 24 24\"\n",
              "       width=\"24px\">\n",
              "    <path d=\"M0 0h24v24H0V0z\" fill=\"none\"/>\n",
              "    <path d=\"M18.56 5.44l.94 2.06.94-2.06 2.06-.94-2.06-.94-.94-2.06-.94 2.06-2.06.94zm-11 1L8.5 8.5l.94-2.06 2.06-.94-2.06-.94L8.5 2.5l-.94 2.06-2.06.94zm10 10l.94 2.06.94-2.06 2.06-.94-2.06-.94-.94-2.06-.94 2.06-2.06.94z\"/><path d=\"M17.41 7.96l-1.37-1.37c-.4-.4-.92-.59-1.43-.59-.52 0-1.04.2-1.43.59L10.3 9.45l-7.72 7.72c-.78.78-.78 2.05 0 2.83L4 21.41c.39.39.9.59 1.41.59.51 0 1.02-.2 1.41-.59l7.78-7.78 2.81-2.81c.8-.78.8-2.07 0-2.86zM5.41 20L4 18.59l7.72-7.72 1.47 1.35L5.41 20z\"/>\n",
              "  </svg>\n",
              "      </button>\n",
              "      \n",
              "  <style>\n",
              "    .colab-df-container {\n",
              "      display:flex;\n",
              "      flex-wrap:wrap;\n",
              "      gap: 12px;\n",
              "    }\n",
              "\n",
              "    .colab-df-convert {\n",
              "      background-color: #E8F0FE;\n",
              "      border: none;\n",
              "      border-radius: 50%;\n",
              "      cursor: pointer;\n",
              "      display: none;\n",
              "      fill: #1967D2;\n",
              "      height: 32px;\n",
              "      padding: 0 0 0 0;\n",
              "      width: 32px;\n",
              "    }\n",
              "\n",
              "    .colab-df-convert:hover {\n",
              "      background-color: #E2EBFA;\n",
              "      box-shadow: 0px 1px 2px rgba(60, 64, 67, 0.3), 0px 1px 3px 1px rgba(60, 64, 67, 0.15);\n",
              "      fill: #174EA6;\n",
              "    }\n",
              "\n",
              "    [theme=dark] .colab-df-convert {\n",
              "      background-color: #3B4455;\n",
              "      fill: #D2E3FC;\n",
              "    }\n",
              "\n",
              "    [theme=dark] .colab-df-convert:hover {\n",
              "      background-color: #434B5C;\n",
              "      box-shadow: 0px 1px 3px 1px rgba(0, 0, 0, 0.15);\n",
              "      filter: drop-shadow(0px 1px 2px rgba(0, 0, 0, 0.3));\n",
              "      fill: #FFFFFF;\n",
              "    }\n",
              "  </style>\n",
              "\n",
              "      <script>\n",
              "        const buttonEl =\n",
              "          document.querySelector('#df-6b0c216e-35da-4818-8b84-eb58afa3f410 button.colab-df-convert');\n",
              "        buttonEl.style.display =\n",
              "          google.colab.kernel.accessAllowed ? 'block' : 'none';\n",
              "\n",
              "        async function convertToInteractive(key) {\n",
              "          const element = document.querySelector('#df-6b0c216e-35da-4818-8b84-eb58afa3f410');\n",
              "          const dataTable =\n",
              "            await google.colab.kernel.invokeFunction('convertToInteractive',\n",
              "                                                     [key], {});\n",
              "          if (!dataTable) return;\n",
              "\n",
              "          const docLinkHtml = 'Like what you see? Visit the ' +\n",
              "            '<a target=\"_blank\" href=https://colab.research.google.com/notebooks/data_table.ipynb>data table notebook</a>'\n",
              "            + ' to learn more about interactive tables.';\n",
              "          element.innerHTML = '';\n",
              "          dataTable['output_type'] = 'display_data';\n",
              "          await google.colab.output.renderOutput(dataTable, element);\n",
              "          const docLink = document.createElement('div');\n",
              "          docLink.innerHTML = docLinkHtml;\n",
              "          element.appendChild(docLink);\n",
              "        }\n",
              "      </script>\n",
              "    </div>\n",
              "  </div>\n",
              "  "
            ]
          },
          "metadata": {},
          "execution_count": 56
        }
      ],
      "source": [
        "#Find linear correlation of each feature with the target variable\n",
        "from scipy.stats import pearsonr\n",
        "df1 = pd.DataFrame(np.concatenate((X_train,y_train.reshape(len(y_train),1)),axis=1))\n",
        "df1.columns = df1.columns.astype(str)\n",
        "\n",
        "features = df1.iloc[:,:46].columns.tolist()\n",
        "target = df1.iloc[:,46].name\n",
        "\n",
        "correlations = {}\n",
        "for f in features:\n",
        "    data_temp = df1[[f,target]]\n",
        "    x1 = data_temp[f].values\n",
        "    x2 = data_temp[target].values\n",
        "    key = f + ' vs ' + target\n",
        "    correlations[key] = pearsonr(x1,x2)[0]\n",
        "    \n",
        "data_correlations = pd.DataFrame(correlations, index=['Value']).T\n",
        "data_correlations.loc[data_correlations['Value'].abs().sort_values(ascending=False).index]"
      ]
    },
    {
      "cell_type": "markdown",
      "metadata": {
        "id": "rVAe6fh0o0ss"
      },
      "source": [
        "### **Observations**\n",
        "\n",
        "We can see that none of the feature is linearly correlated with the target variable \"46\". That is why it is not a good model for the prediction of the trip duration. So let's move ahead and try the random forest regressor. We are not using decision tree regressor because the random forest will anyways consist of almost all its properties. Also, we will not use SVR because it takes too much time to train on this huge dataset even with the default settings. It seems to be not good with high dimensional dataset as well as for the huge instances."
      ]
    },
    {
      "cell_type": "markdown",
      "metadata": {
        "id": "-wZLfa5tpA-D"
      },
      "source": [
        "## **Random Forest Regressor**"
      ]
    },
    {
      "cell_type": "code",
      "execution_count": 57,
      "metadata": {
        "id": "9fr4_v-arZp0",
        "colab": {
          "base_uri": "https://localhost:8080/"
        },
        "outputId": "b00eb6cf-2730-4a22-c0cf-dbb15d8e0ca1"
      },
      "outputs": [
        {
          "output_type": "execute_result",
          "data": {
            "text/plain": [
              "RandomForestRegressor()"
            ]
          },
          "metadata": {},
          "execution_count": 57
        }
      ],
      "source": [
        "#import the packages\n",
        "from sklearn.ensemble import RandomForestRegressor\n",
        "# Create an instance of the RandomForestRegressor\n",
        "rf_model = RandomForestRegressor()\n",
        "\n",
        "rf_model.fit(X_train_fs,y_train_fs)"
      ]
    },
    {
      "cell_type": "code",
      "execution_count": 58,
      "metadata": {
        "id": "251G6ZYSrdtE"
      },
      "outputs": [],
      "source": [
        "# Making predictions on train and test data\n",
        "\n",
        "y_pred_train_r = rf_model.predict(X_train_fs)\n",
        "y_pred_test_r = rf_model.predict(X_test_fs)"
      ]
    },
    {
      "cell_type": "markdown",
      "metadata": {
        "id": "WKbK-4N-tvgg"
      },
      "source": [
        "### **For train data**"
      ]
    },
    {
      "cell_type": "code",
      "execution_count": 59,
      "metadata": {
        "colab": {
          "base_uri": "https://localhost:8080/"
        },
        "id": "_-XrQaSttsbA",
        "outputId": "e37906e8-9646-4229-d539-d5681adf2fe7"
      },
      "outputs": [
        {
          "output_type": "stream",
          "name": "stdout",
          "text": [
            "Model Score: 0.9554216844466263\n",
            "MSE : 1132390.066004882\n",
            "RMSE : 1064.1381799394674\n",
            "MAE : 5.064715572480479\n",
            "R2 : 0.9554216844466263\n",
            "Adjusted R2 : 0.9554197712598164\n"
          ]
        }
      ],
      "source": [
        "#import the packages\n",
        "from sklearn.metrics import mean_squared_error\n",
        "print(\"Model Score:\",rf_model.score(X_train_fs,y_train_fs))\n",
        "\n",
        "#calculate MSE\n",
        "MSE_rf= mean_squared_error(y_train_fs, y_pred_train_r)\n",
        "print(\"MSE :\",MSE_rf)\n",
        "\n",
        "#calculate RMSE\n",
        "RMSE_rf=np.sqrt(MSE_rf)\n",
        "print(\"RMSE :\",RMSE_rf)\n",
        "\n",
        "\n",
        "#calculate MAE\n",
        "MAE_rf= mean_absolute_error(y_train_fs, y_pred_train_r)\n",
        "print(\"MAE :\",MAE_rf)\n",
        "\n",
        "\n",
        "#import the packages\n",
        "from sklearn.metrics import r2_score\n",
        "#calculate r2 and adjusted r2\n",
        "r2_rf= r2_score(y_train_fs, y_pred_train_r)\n",
        "print(\"R2 :\",r2_rf)\n",
        "Adjusted_R2_rf=(1-(1-r2_score(y_train_fs, y_pred_train_r))*((X_test_fs.shape[0]-1)/(X_test_fs.shape[0]-X_test_fs.shape[1]-1)) )\n",
        "print(\"Adjusted R2 :\",1-(1-r2_score(y_train_fs, y_pred_train_r))*((X_test_fs.shape[0]-1)/(X_test_fs.shape[0]-X_test_fs.shape[1]-1)) )"
      ]
    },
    {
      "cell_type": "code",
      "source": [
        ""
      ],
      "metadata": {
        "id": "IiFlb_RZJqwk"
      },
      "execution_count": null,
      "outputs": []
    },
    {
      "cell_type": "markdown",
      "metadata": {
        "id": "aJxQ3_not9ug"
      },
      "source": [
        "### **For test data**"
      ]
    },
    {
      "cell_type": "code",
      "execution_count": 60,
      "metadata": {
        "colab": {
          "base_uri": "https://localhost:8080/"
        },
        "id": "e1kxYzZ0uGde",
        "outputId": "140b4ab3-42c2-4833-8e5e-3ba31e98fdd0"
      },
      "outputs": [
        {
          "output_type": "stream",
          "name": "stdout",
          "text": [
            "MSE : 22262068.30172076\n",
            "RMSE : 4718.269630036075\n",
            "MAE : 15.644860609534268\n",
            "R2 : 0.6805045632923603\n",
            "Adjusted R2 : 0.6804908513687993\n"
          ]
        }
      ],
      "source": [
        "#import the packages\n",
        "from sklearn.metrics import mean_squared_error\n",
        "#calculate MSE\n",
        "MSE_rf= mean_squared_error(y_test_fs, y_pred_test_r)\n",
        "print(\"MSE :\",MSE_rf)\n",
        "\n",
        "#calculate RMSE\n",
        "RMSE_rf=np.sqrt(MSE_rf)\n",
        "print(\"RMSE :\",RMSE_rf)\n",
        "\n",
        "\n",
        "#calculate MAE\n",
        "MAE_rf= mean_absolute_error(y_test_fs, y_pred_test_r)\n",
        "print(\"MAE :\",MAE_rf)\n",
        "\n",
        "\n",
        "#import the packages\n",
        "from sklearn.metrics import r2_score\n",
        "#calculate r2 and adjusted r2\n",
        "r2_rf= r2_score((y_test_fs), (y_pred_test_r))\n",
        "print(\"R2 :\",r2_rf)\n",
        "Adjusted_R2_rf=(1-(1-r2_score((y_test_fs), (y_pred_test_r)))*((X_test_fs.shape[0]-1)/(X_test_fs.shape[0]-X_test_fs.shape[1]-1)) )\n",
        "print(\"Adjusted R2 :\",1-(1-r2_score((y_test_fs), (y_pred_test_r)))*((X_test_fs.shape[0]-1)/(X_test_fs.shape[0]-X_test_fs.shape[1]-1)) )"
      ]
    },
    {
      "cell_type": "markdown",
      "metadata": {
        "id": "HBPBH45qASFY"
      },
      "source": [
        "**Interesting find**\n",
        "\n",
        "There is approx 200% improvement on the RMSE score for the Random forest regressor over the Linear regressor of the feature selection group.\n",
        "\n",
        "Even the variance score is approx 1 which is a good score.\n",
        "\n",
        "RMSE score for the RF regressor of feature extraction group is still very bad along with the variance score.\n",
        "\n",
        "RMSE score for the feature selection group is more or less same as the raw data score. \n",
        "Sometimes the RMSE score for the raw data is better and vice versa.\n",
        "It fluctuates on every iteration and this is quite weird!\n",
        "Let's see if we can improve this further with the most sought after algorigthm i.e. XGBoost!!"
      ]
    },
    {
      "cell_type": "markdown",
      "metadata": {
        "id": "t53VEA2KkDTG"
      },
      "source": [
        "# **XGBoost**"
      ]
    },
    {
      "cell_type": "code",
      "execution_count": 61,
      "metadata": {
        "id": "cHkxkq1nkClf"
      },
      "outputs": [],
      "source": [
        "from xgboost import XGBRegressor\n",
        "regressor_xgbraw = XGBRegressor(n_jobs=-1)\n",
        "#instantiate the object for the XGBoost Regressor with default params for Feature Selection Group\n",
        "regressor_xgb = XGBRegressor(n_jobs=-1)"
      ]
    },
    {
      "cell_type": "code",
      "execution_count": 62,
      "metadata": {
        "colab": {
          "base_uri": "https://localhost:8080/"
        },
        "id": "pOQcfjZukQYA",
        "outputId": "2dcb49bb-80ad-45a2-fa4e-00dc0d40d629"
      },
      "outputs": [
        {
          "output_type": "stream",
          "name": "stdout",
          "text": [
            "[14:03:51] WARNING: /workspace/src/objective/regression_obj.cu:152: reg:linear is now deprecated in favor of reg:squarederror.\n"
          ]
        },
        {
          "output_type": "execute_result",
          "data": {
            "text/plain": [
              "XGBRegressor(n_jobs=-1)"
            ]
          },
          "metadata": {},
          "execution_count": 62
        }
      ],
      "source": [
        "regressor_xgb1 = XGBRegressor(n_estimators=300,\n",
        "                            learning_rate=0.08,\n",
        "                            gamma=0,\n",
        "                            subsample=0.75,\n",
        "                            colsample_bytree=1,\n",
        "                            max_depth=7,\n",
        "                            min_child_weight=4,\n",
        "                            silent=1,\n",
        "                           n_jobs=-1)\n",
        "#instantiate the object for the XGBoost Regressor for Feature Extraction Group\n",
        "regressor_xgb2 = XGBRegressor(n_jobs=-1)\n",
        "\n",
        "#Train the object with default params for Feature Selection Group\n",
        "regressor_xgb.fit(X_train_fs,y_train_fs)"
      ]
    },
    {
      "cell_type": "code",
      "execution_count": 63,
      "metadata": {
        "id": "EInlVXzNkTRv"
      },
      "outputs": [],
      "source": [
        "# Making predictions on train and test data\n",
        "\n",
        "y_pred_train_x = regressor_xgb.predict(X_train_fs)\n",
        "y_pred_test_x = regressor_xgb.predict(X_test_fs)"
      ]
    },
    {
      "cell_type": "markdown",
      "metadata": {
        "id": "4qzrKfHMkYNn"
      },
      "source": [
        "# For Train Data"
      ]
    },
    {
      "cell_type": "code",
      "execution_count": 64,
      "metadata": {
        "colab": {
          "base_uri": "https://localhost:8080/"
        },
        "id": "xdawMqOLkWc_",
        "outputId": "6038ac9b-1a94-417b-989f-05db4f2fa40c"
      },
      "outputs": [
        {
          "output_type": "stream",
          "name": "stdout",
          "text": [
            "Model Score: 0.9861435305372834\n",
            "MSE : 351985.67228708835\n",
            "RMSE : 593.2838041671864\n",
            "MAE : 58.07534598862042\n",
            "R2 : 0.9861435305372834\n",
            "Adjusted R2 : 0.9861429358532027\n"
          ]
        }
      ],
      "source": [
        "#import the packages\n",
        "from sklearn.metrics import mean_squared_error\n",
        "print(\"Model Score:\",regressor_xgb.score(X_train_fs,y_train_fs))\n",
        "\n",
        "#calculate MSE\n",
        "MSE_rf= mean_squared_error(y_train_fs, y_pred_train_x)\n",
        "print(\"MSE :\",MSE_rf)\n",
        "\n",
        "#calculate RMSE\n",
        "RMSE_rf=np.sqrt(MSE_rf)\n",
        "print(\"RMSE :\",RMSE_rf)\n",
        "\n",
        "\n",
        "#calculate MAE\n",
        "MAE_rf= mean_absolute_error(y_train_fs, y_pred_train_x)\n",
        "print(\"MAE :\",MAE_rf)\n",
        "\n",
        "\n",
        "#import the packages\n",
        "from sklearn.metrics import r2_score\n",
        "#calculate r2 and adjusted r2\n",
        "r2_rf= r2_score(y_train_fs, y_pred_train_x)\n",
        "print(\"R2 :\",r2_rf)\n",
        "Adjusted_R2_rf=(1-(1-r2_score(y_train_fs, y_pred_train_x))*((X_test_fs.shape[0]-1)/(X_test_fs.shape[0]-X_test_fs.shape[1]-1)) )\n",
        "print(\"Adjusted R2 :\",1-(1-r2_score(y_train_fs, y_pred_train_x))*((X_test_fs.shape[0]-1)/(X_test_fs.shape[0]-X_test_fs.shape[1]-1)) )\n"
      ]
    },
    {
      "cell_type": "markdown",
      "metadata": {
        "id": "_CF70i38kfa9"
      },
      "source": [
        "# For Test Data"
      ]
    },
    {
      "cell_type": "code",
      "execution_count": 65,
      "metadata": {
        "colab": {
          "base_uri": "https://localhost:8080/"
        },
        "id": "QUWSfStrkjQZ",
        "outputId": "c709ef5e-99f0-46cc-c675-6f76394ae6a6"
      },
      "outputs": [
        {
          "output_type": "stream",
          "name": "stdout",
          "text": [
            "Model Score: 0.8457141090184787\n",
            "MSE : 10750460.408501798\n",
            "RMSE : 3278.7894730375415\n",
            "MAE : 65.32537852044048\n",
            "R2 : 0.8457141090184787\n",
            "Adjusted R2 : 0.8457074874643009\n"
          ]
        }
      ],
      "source": [
        "#import the packages\n",
        "from sklearn.metrics import mean_squared_error\n",
        "print(\"Model Score:\",regressor_xgb.score(X_test_fs,y_test_fs))\n",
        "#calculate MSE\n",
        "MSE_rf= mean_squared_error(y_test_fs, y_pred_test_x)\n",
        "print(\"MSE :\",MSE_rf)\n",
        "\n",
        "#calculate RMSE\n",
        "RMSE_rf=np.sqrt(MSE_rf)\n",
        "print(\"RMSE :\",RMSE_rf)\n",
        "\n",
        "\n",
        "#calculate MAE\n",
        "MAE_rf= mean_absolute_error(y_test_fs, y_pred_test_x)\n",
        "print(\"MAE :\",MAE_rf)\n",
        "\n",
        "\n",
        "#import the packages\n",
        "from sklearn.metrics import r2_score\n",
        "#calculate r2 and adjusted r2\n",
        "r2_rf= r2_score((y_test_fs), (y_pred_test_x))\n",
        "print(\"R2 :\",r2_rf)\n",
        "Adjusted_R2_rf=(1-(1-r2_score((y_test_fs), (y_pred_test_x)))*((X_test_fs.shape[0]-1)/(X_test_fs.shape[0]-X_test_fs.shape[1]-1)) )\n",
        "print(\"Adjusted R2 :\",1-(1-r2_score((y_test_fs), (y_pred_test_x)))*((X_test_fs.shape[0]-1)/(X_test_fs.shape[0]-X_test_fs.shape[1]-1)) )"
      ]
    },
    {
      "cell_type": "markdown",
      "metadata": {
        "id": "mnXD2CBNoAII"
      },
      "source": [
        "\n",
        "\n",
        "1.   As we can see here we have restricted ourselves on Feature Selection dataset only. The reason behind this is that if here the dimension increases, the time complexity also increases manyfold. So, better to check for the optimal features. Same thinking was behind the operation on Random Forest Regressr\n",
        "2.   Second observation is that it works exceptionally well for both Training  and Test dataset.\n",
        "\n"
      ]
    },
    {
      "cell_type": "markdown",
      "metadata": {
        "id": "jCfbeZQsuRO9"
      },
      "source": [
        "## **Ridge Regression**"
      ]
    },
    {
      "cell_type": "code",
      "execution_count": 66,
      "metadata": {
        "id": "Kh-VXzLJuMez"
      },
      "outputs": [],
      "source": [
        "from sklearn.linear_model import Ridge\n",
        "\n",
        "ridge1= Ridge(alpha=0.1)\n",
        "ridge2= Ridge(alpha=0.1)\n",
        "ridge3= Ridge(alpha=0.1)"
      ]
    },
    {
      "cell_type": "code",
      "execution_count": 67,
      "metadata": {
        "colab": {
          "base_uri": "https://localhost:8080/"
        },
        "id": "QUKbkdDzuhtJ",
        "outputId": "bd6ebc7e-da41-4d81-ab7f-fa38ebee7105"
      },
      "outputs": [
        {
          "output_type": "stream",
          "name": "stdout",
          "text": [
            "0.006189150456451187 0.0191805729473028\n"
          ]
        }
      ],
      "source": [
        "#FIT THE MODEL\n",
        "ridge1.fit(X_train,y_train)\n",
        "# Create the model score\n",
        "print(ridge1.score(X_test, y_test), ridge1.score(X_train, y_train))"
      ]
    },
    {
      "cell_type": "code",
      "execution_count": 68,
      "metadata": {
        "colab": {
          "base_uri": "https://localhost:8080/"
        },
        "id": "LCb1xph_uj1C",
        "outputId": "42a2f959-58b3-44af-d340-f059d94d2085"
      },
      "outputs": [
        {
          "output_type": "stream",
          "name": "stdout",
          "text": [
            "0.006196528401387513 0.01912850032069957\n"
          ]
        }
      ],
      "source": [
        "# Fit the Ridge model on Feature Selection data\n",
        "ridge2.fit(X_train_fs,y_train_fs)\n",
        "# Create the model score\n",
        "print(ridge2.score(X_test_fs,y_test_fs), ridge2.score(X_train_fs,y_train_fs))"
      ]
    },
    {
      "cell_type": "code",
      "execution_count": 69,
      "metadata": {
        "colab": {
          "base_uri": "https://localhost:8080/"
        },
        "id": "QJ8G0uPCulzW",
        "outputId": "5b6823d7-d171-4abe-859f-9a8d15ad30f1"
      },
      "outputs": [
        {
          "output_type": "stream",
          "name": "stdout",
          "text": [
            "0.001065880797477936 0.00328101494060018\n"
          ]
        }
      ],
      "source": [
        "# Fit the Ridge model on Feature Extraction data\n",
        "ridge3.fit(X_train_pca,y_train_pca)\n",
        "# Create the model score\n",
        "print(ridge3.score(X_test_pca,y_test_pca), ridge3.score(X_train_pca,y_train_pca))"
      ]
    },
    {
      "cell_type": "markdown",
      "metadata": {
        "id": "JOS2CcGhvCVD"
      },
      "source": [
        "### **Model Prediction**\n",
        "**Feature selection based**\n",
        "\n"
      ]
    },
    {
      "cell_type": "markdown",
      "metadata": {
        "id": "cdXu3--lvjbS"
      },
      "source": [
        "**Train Data**"
      ]
    },
    {
      "cell_type": "code",
      "execution_count": 70,
      "metadata": {
        "id": "e0ETYAquuuvg"
      },
      "outputs": [],
      "source": [
        "#get the X_train and X-test value for Feature Selection\n",
        "y_pred_train_ridge_fs=ridge2.predict(X_train_fs)\n",
        "y_pred_test_ridge_fs=ridge2.predict(X_test_fs)"
      ]
    },
    {
      "cell_type": "code",
      "execution_count": 71,
      "metadata": {
        "colab": {
          "base_uri": "https://localhost:8080/"
        },
        "id": "76q1w2Msvn0V",
        "outputId": "c4c0d899-b0e1-43a8-dbf3-459ab6bd59eb"
      },
      "outputs": [
        {
          "output_type": "stream",
          "name": "stdout",
          "text": [
            "MSE : 24916355.148822818\n",
            "RMSE : 4991.628506692262\n",
            "MAE : 364.6812006163739\n",
            "R2 : 0.01912850032069957\n",
            "Adjusted R2 : 0.019086403835174126\n"
          ]
        }
      ],
      "source": [
        "from sklearn.metrics import mean_squared_error\n",
        "#calculate MSE\n",
        "MSE_l= mean_squared_error((y_train_fs), (y_pred_train_ridge_fs))\n",
        "print(\"MSE :\",MSE_l)\n",
        "\n",
        "#calculate RMSE\n",
        "RMSE_l=np.sqrt(MSE_l)\n",
        "print(\"RMSE :\",RMSE_l)\n",
        "\n",
        "#calculate MAE\n",
        "MAE_l= mean_absolute_error(y_train_fs, y_pred_train_ridge_fs)\n",
        "print(\"MAE :\",MAE_l)\n",
        "\n",
        "from sklearn.metrics import r2_score\n",
        "#calculate r2 and adjusted r2\n",
        "r2_l= r2_score(y_train_fs, y_pred_train_ridge_fs)\n",
        "print(\"R2 :\",r2_l)\n",
        "Adjusted_R2_l = (1-(1-r2_score(y_train_fs, y_pred_train_ridge_fs))*((X_test_fs.shape[0]-1)/(X_test_fs.shape[0]-X_test_fs.shape[1]-1)) )\n",
        "print(\"Adjusted R2 :\",1-(1-r2_score(y_train_fs, y_pred_train_ridge_fs))*((X_test_fs.shape[0]-1)/(X_test_fs.shape[0]-X_test_fs.shape[1]-1)) )"
      ]
    },
    {
      "cell_type": "markdown",
      "metadata": {
        "id": "DQv63s6Evul2"
      },
      "source": [
        "**Test Data**"
      ]
    },
    {
      "cell_type": "code",
      "execution_count": 72,
      "metadata": {
        "colab": {
          "base_uri": "https://localhost:8080/"
        },
        "id": "3ArYx7umvyQg",
        "outputId": "7b0c158b-93bd-4f8c-e1d4-46e5fd7dbf26"
      },
      "outputs": [
        {
          "output_type": "stream",
          "name": "stdout",
          "text": [
            "MSE : 69247063.40472905\n",
            "RMSE : 8321.482043766546\n",
            "MAE : 378.296536367151\n",
            "R2 : 0.01912850032069957\n",
            "Adjusted R2 : 0.006153876908841394\n"
          ]
        }
      ],
      "source": [
        "#calculate MSE\n",
        "MSE_l= mean_squared_error((y_test_fs), (y_pred_test_ridge_fs))\n",
        "print(\"MSE :\",MSE_l)\n",
        "\n",
        "#calculate RMSE\n",
        "RMSE_l=np.sqrt(MSE_l)\n",
        "print(\"RMSE :\",RMSE_l)\n",
        "\n",
        "#calculate MAE\n",
        "MAE_l= mean_absolute_error(y_test_fs, y_pred_test_ridge_fs)\n",
        "print(\"MAE :\",MAE_l)\n",
        "\n",
        "from sklearn.metrics import r2_score\n",
        "#calculate r2 and adjusted r2\n",
        "r2_l= r2_score(y_train_fs, y_pred_train_ridge_fs)\n",
        "print(\"R2 :\",r2_l)\n",
        "Adjusted_R2_l = (1-(1-r2_score(y_test_fs, y_pred_test_ridge_fs))*((X_test_fs.shape[0]-1)/(X_test_fs.shape[0]-X_test_fs.shape[1]-1)) )\n",
        "print(\"Adjusted R2 :\",1-(1-r2_score(y_test_fs, y_pred_test_ridge_fs))*((X_test_fs.shape[0]-1)/(X_test_fs.shape[0]-X_test_fs.shape[1]-1)) )"
      ]
    },
    {
      "cell_type": "markdown",
      "metadata": {
        "id": "Cjxvutx-v6Ta"
      },
      "source": [
        "### **Feature Extraction Based**"
      ]
    },
    {
      "cell_type": "markdown",
      "metadata": {
        "id": "yx-xbQOPwA_e"
      },
      "source": [
        "**Train Data**"
      ]
    },
    {
      "cell_type": "code",
      "execution_count": 73,
      "metadata": {
        "id": "-9wANACywEVN"
      },
      "outputs": [],
      "source": [
        "#get the X_train and X-test value for Feature Selection\n",
        "y_pred_train_ridge_pca=ridge3.predict(X_train_pca)\n",
        "y_pred_test_ridge_pca=ridge3.predict(X_test_pca)"
      ]
    },
    {
      "cell_type": "code",
      "execution_count": 74,
      "metadata": {
        "colab": {
          "base_uri": "https://localhost:8080/"
        },
        "id": "2dU5_q85wHRz",
        "outputId": "ed6da52b-dd09-4c56-e9ce-a2a66bba9623"
      },
      "outputs": [
        {
          "output_type": "stream",
          "name": "stdout",
          "text": [
            "MSE : 69604560.92822206\n",
            "RMSE : 8342.934791080537\n",
            "MAE : 577.3878694056875\n",
            "R2 : 0.00328101494060018\n",
            "Adjusted R2 : 0.0008467201745725461\n"
          ]
        }
      ],
      "source": [
        "#calculate MSE\n",
        "MSE_l= mean_squared_error((y_test), (y_pred_test_ridge_pca))\n",
        "print(\"MSE :\",MSE_l)\n",
        "\n",
        "#calculate RMSE\n",
        "RMSE_l=np.sqrt(MSE_l)\n",
        "print(\"RMSE :\",RMSE_l)\n",
        "\n",
        "#calculate MAE\n",
        "MAE_l= mean_absolute_error(y_test, y_pred_test_ridge_pca)\n",
        "print(\"MAE :\",MAE_l)\n",
        "\n",
        "from sklearn.metrics import r2_score\n",
        "#calculate r2 and adjusted r2\n",
        "r2_l= r2_score(y_train, y_pred_train_ridge_pca)\n",
        "print(\"R2 :\",r2_l)\n",
        "Adjusted_R2_l = (1-(1-r2_score(y_test, y_pred_test_ridge_pca))*((X_test.shape[0]-1)/(X_test.shape[0]-X_test.shape[1]-1)) )\n",
        "print(\"Adjusted R2 :\",1-(1-r2_score(y_test, y_pred_test_ridge_pca))*((X_test.shape[0]-1)/(X_test.shape[0]-X_test.shape[1]-1)) )"
      ]
    },
    {
      "cell_type": "markdown",
      "metadata": {
        "id": "qht0RXwzov3o"
      },
      "source": [
        "\n",
        "\n",
        "\n",
        "1.   For RIDGE regression, the time complexity is very less. So it enables us to explore it for optimal featues, as well as on the extended features too.\n",
        "2.   However, it seems that for both dataset the result is very poor. So for this large data RIDGE regression prooves to be futile.\n",
        "\n"
      ]
    }
  ]
}